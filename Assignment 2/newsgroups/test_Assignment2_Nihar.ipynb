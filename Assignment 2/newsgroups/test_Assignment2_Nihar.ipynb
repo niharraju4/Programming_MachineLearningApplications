import unittest
import pandas as pd
import numpy as np
import matplotlib.pyplot as plt
from sklearn.metrics import accuracy_score
from sklearn.neighbors import NearestCentroid

class TestCode(unittest.TestCase):
    def test_imports(self):
        self.assertTrue('pd' in globals(), "pandas is not imported")
        self.assertTrue('np' in globals(), "numpy is not imported")
        self.assertTrue('plt' in globals(), "matplotlib.pyplot is not imported")
        self.assertTrue('accuracy_score' in globals(), "accuracy_score is not imported")
        self.assertTrue('NearestCentroid' in globals(), "NearestCentroid is not imported")

if __name__ == '__main__':
    unittest.main()