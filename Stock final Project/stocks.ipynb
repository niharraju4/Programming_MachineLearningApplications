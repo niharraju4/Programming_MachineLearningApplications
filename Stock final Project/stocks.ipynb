{
 "cells": [
  {
   "cell_type": "markdown",
   "id": "b4be03be-5ee3-4569-9659-79323b1b5270",
   "metadata": {
    "tags": []
   },
   "source": [
    "Stocks"
   ]
  },
  {
   "cell_type": "code",
   "execution_count": 1,
   "id": "0d9c739a-7e9d-4d9c-bca4-df29e5902eb8",
   "metadata": {
    "tags": []
   },
   "outputs": [],
   "source": [
    "import pandas as pd\n",
    "import numpy as np\n",
    "import yfinance as yf\n",
    "import seaborn as sns\n",
    "from sklearn.svm import SVC\n",
    "import matplotlib.pyplot as plt\n",
    "from sklearn.preprocessing import StandardScaler\n",
    "from sklearn.linear_model import LinearRegression, Lasso\n",
    "from sklearn.decomposition import PCA\n",
    "from sklearn.neighbors import KNeighborsClassifier\n",
    "from sklearn.ensemble import AdaBoostClassifier, RandomForestClassifier, GradientBoostingClassifier\n",
    "from sklearn.model_selection import train_test_split, cross_val_score\n",
    "from sklearn.metrics import mean_squared_error, r2_score, accuracy_score, confusion_matrix, classification_report, make_scorer, precision_score, recall_score, f1_score\n",
    "from sklearn.impute import SimpleImputer\n",
    "from sklearn.preprocessing import StandardScaler\n",
    "from sklearn.linear_model import LogisticRegression\n",
    "from sklearn.preprocessing import LabelEncoder\n",
    "from sklearn.preprocessing import KBinsDiscretizer"
   ]
  },
  {
   "cell_type": "code",
   "execution_count": 2,
   "id": "10cae3f9-71f9-4793-b8c9-2aa5fcfee4de",
   "metadata": {
    "tags": []
   },
   "outputs": [
    {
     "name": "stderr",
     "output_type": "stream",
     "text": [
      "[*********************100%%**********************]  10 of 10 completed\n"
     ]
    },
    {
     "name": "stdout",
     "output_type": "stream",
     "text": [
      "Ticker           AAPL        ADBE       AMZN      GOOGL       INTC  \\\n",
      "Date                                                                 \n",
      "2020-01-02  73.059425  334.429993  94.900497  68.433998  54.226269   \n",
      "2020-01-03  72.349129  331.809998  93.748497  68.075996  53.566715   \n",
      "2020-01-06  72.925621  333.709991  95.143997  69.890503  53.415188   \n",
      "2020-01-07  72.582657  333.390015  95.343002  69.755501  52.523899   \n",
      "2020-01-08  73.750244  337.869995  94.598503  70.251999  52.559547   \n",
      "\n",
      "Ticker            META        MSFT        NFLX       NVDA       TSLA  \n",
      "Date                                                                  \n",
      "2020-01-02  209.779999  154.493805  329.809998  59.744045  28.684000  \n",
      "2020-01-03  208.669998  152.570114  325.899994  58.787785  29.534000  \n",
      "2020-01-06  212.600006  152.964447  335.829987  59.034313  30.102667  \n",
      "2020-01-07  213.059998  151.569809  330.750000  59.749012  31.270666  \n",
      "2020-01-08  215.220001  153.984070  339.260010  59.861088  32.809334  \n",
      "Ticker           AAPL     ADBE      AMZN     GOOGL      INTC      META  \\\n",
      "Date                                                                     \n",
      "2020-01-02  135480400  1990100  80580000  27278000  18056000  12077100   \n",
      "2020-01-03  146322800  1577600  75288000  23408000  15293900  11188400   \n",
      "2020-01-06  118387200  1874700  81236000  46768000  17755200  17058900   \n",
      "2020-01-07  108872000  2500800  80898000  34330000  21876100  14912400   \n",
      "2020-01-08  132079200  2248500  70160000  35314000  23133500  13475000   \n",
      "\n",
      "Ticker          MSFT     NFLX      NVDA       TSLA  \n",
      "Date                                                \n",
      "2020-01-02  22622100  4485800  23753600  142981500  \n",
      "2020-01-03  21116200  3806900  20538400  266677500  \n",
      "2020-01-06  20813700  5663100  26263600  151995000  \n",
      "2020-01-07  21634100  4703200  31485600  268231500  \n",
      "2020-01-08  27746500  7104500  27710800  467164500  \n"
     ]
    }
   ],
   "source": [
    "# Fetch historical stock data for the top 10 tech companies\n",
    "top_10_tech_symbols = ['AAPL', 'MSFT', 'GOOGL', 'AMZN', 'META', 'TSLA', 'NVDA', 'ADBE', 'NFLX', 'INTC']\n",
    "all_data = yf.download(top_10_tech_symbols, start='2020-01-01', end='2021-12-31')\n",
    "\n",
    "# Extract adjusted close and volume data\n",
    "stock_data = all_data['Adj Close']\n",
    "volume_data = all_data['Volume']\n",
    "\n",
    "print(stock_data.head())\n",
    "print(volume_data.head())\n",
    "    \n",
    "    "
   ]
  },
  {
   "cell_type": "code",
   "execution_count": 3,
   "id": "c33bf9f5-098b-418c-97e9-5d1a775052bc",
   "metadata": {
    "tags": []
   },
   "outputs": [
    {
     "name": "stdout",
     "output_type": "stream",
     "text": [
      "Missing values in stock_data:\n",
      " Ticker\n",
      "AAPL     0\n",
      "ADBE     0\n",
      "AMZN     0\n",
      "GOOGL    0\n",
      "INTC     0\n",
      "META     0\n",
      "MSFT     0\n",
      "NFLX     0\n",
      "NVDA     0\n",
      "TSLA     0\n",
      "dtype: int64\n"
     ]
    }
   ],
   "source": [
    "# Check for missing values in stock_data\n",
    "missing_values = stock_data.isna().sum()\n",
    "print(\"Missing values in stock_data:\\n\", missing_values)\n",
    "\n",
    "# Drop rows with missing values\n",
    "stock_data_clean = stock_data.copy()\n",
    "stock_data_clean.dropna(inplace=True)"
   ]
  },
  {
   "cell_type": "code",
   "execution_count": 4,
   "id": "d464ffa7-ddfb-40fe-8367-a8dfa6177306",
   "metadata": {
    "tags": []
   },
   "outputs": [
    {
     "name": "stderr",
     "output_type": "stream",
     "text": [
      "C:\\Users\\nihar\\AppData\\Local\\Temp\\ipykernel_14956\\2638654638.py:2: SettingWithCopyWarning: \n",
      "A value is trying to be set on a copy of a slice from a DataFrame\n",
      "\n",
      "See the caveats in the documentation: https://pandas.pydata.org/pandas-docs/stable/user_guide/indexing.html#returning-a-view-versus-a-copy\n",
      "  stock_data.dropna(inplace=True)\n"
     ]
    }
   ],
   "source": [
    "# Data Preprocessing\n",
    "stock_data.dropna(inplace=True)\n",
    "\n",
    "def remove_outliers(df, threshold=3):\n",
    "    numeric_cols = df.select_dtypes(include=[np.number]).columns\n",
    "    mean = df[numeric_cols].mean()\n",
    "    std = df[numeric_cols].std()\n",
    "    return df[((df[numeric_cols] - mean).abs() <= threshold * std).all(axis=1)]\n",
    "\n",
    "stock_data = remove_outliers(stock_data)\n",
    "\n",
    "scaler = StandardScaler()\n",
    "numeric_cols = stock_data.select_dtypes(include=[np.number]).columns\n",
    "stock_data[numeric_cols] = scaler.fit_transform(stock_data[numeric_cols])\n"
   ]
  },
  {
   "cell_type": "code",
   "execution_count": 5,
   "id": "7a7f5f6f-b406-4a54-8fe8-2c08dc6973dd",
   "metadata": {
    "tags": []
   },
   "outputs": [
    {
     "name": "stdout",
     "output_type": "stream",
     "text": [
      "Shape before outlier removal: (504, 10)\n",
      "Shape after outlier removal: (504, 10)\n"
     ]
    }
   ],
   "source": [
    "# Apply remove_outliers function to stock_data\n",
    "stock_data_clean = remove_outliers(stock_data)\n",
    "\n",
    "# Check the shape of the DataFrame before and after outlier removal\n",
    "print(\"Shape before outlier removal:\", stock_data.shape)\n",
    "print(\"Shape after outlier removal:\", stock_data_clean.shape)\n",
    "\n",
    "# Reassign the cleaned DataFrame back to stock_data\n",
    "stock_data = stock_data_clean\n"
   ]
  },
  {
   "cell_type": "code",
   "execution_count": 6,
   "id": "2a0e0482-9d89-40fb-903c-3f5eec0322cf",
   "metadata": {
    "tags": []
   },
   "outputs": [
    {
     "data": {
      "image/png": "[encoded data removed]",
      "text/plain": [
       "<Figure size 1000x800 with 2 Axes>"
      ]
     },
     "metadata": {},
     "output_type": "display_data"
    }
   ],
   "source": [
    "# Exploratory Data Analysis (EDA)\n",
    "plt.figure(figsize=(10, 8))\n",
    "sns.heatmap(stock_data.corr(), annot=True, cmap='coolwarm')\n",
    "plt.title('Correlation Matrix')\n",
    "plt.show()"
   ]
  },
  {
   "cell_type": "markdown",
   "id": "77fa16e1-4f07-4f7a-926e-d8a440a736b6",
   "metadata": {},
   "source": [
    "Moving Averages\n",
    "Moving averages are commonly used in stock analysis to smooth out price data over a specific time period, making it easier to identify trends."
   ]
  },
  {
   "cell_type": "code",
   "execution_count": 7,
   "id": "2974f28a-9d44-4ea6-ba8a-991c5a2e45d4",
   "metadata": {
    "tags": []
   },
   "outputs": [
    {
     "name": "stdout",
     "output_type": "stream",
     "text": [
      "Date\n",
      "2020-01-02         NaN\n",
      "2020-01-03         NaN\n",
      "2020-01-06         NaN\n",
      "2020-01-07         NaN\n",
      "2020-01-08   -1.471705\n",
      "                ...   \n",
      "2021-12-23    1.886957\n",
      "2021-12-27    1.949125\n",
      "2021-12-28    2.013661\n",
      "2021-12-29    2.056888\n",
      "2021-12-30    2.074205\n",
      "Name: MA_5_AAPL, Length: 504, dtype: float64\n"
     ]
    }
   ],
   "source": [
    "# Moving Averages\n",
    "# 5-day moving average for AAPL\n",
    "stock_data['MA_5_AAPL'] = stock_data['AAPL'].rolling(window=5).mean()\n",
    "\n",
    "# 10-day moving average for AAPL\n",
    "stock_data['MA_10_AAPL'] = stock_data['AAPL'].rolling(window=10).mean()\n",
    "\n",
    "# 20-day moving average for AAPL\n",
    "stock_data['MA_20_AAPL'] = stock_data['AAPL'].rolling(window=20).mean()\n",
    "print(stock_data['MA_5_AAPL'])"
   ]
  },
  {
   "cell_type": "code",
   "execution_count": 8,
   "id": "328c84cf-802c-4b67-b847-a51abd7ba35c",
   "metadata": {
    "tags": []
   },
   "outputs": [
    {
     "name": "stdout",
     "output_type": "stream",
     "text": [
      "Date\n",
      "2020-01-02         NaN\n",
      "2020-01-03         NaN\n",
      "2020-01-06         NaN\n",
      "2020-01-07         NaN\n",
      "2020-01-08         NaN\n",
      "                ...   \n",
      "2021-12-23    1.938640\n",
      "2021-12-27    1.941617\n",
      "2021-12-28    1.953624\n",
      "2021-12-29    1.970705\n",
      "2021-12-30    1.966984\n",
      "Name: MA_10_AAPL, Length: 504, dtype: float64\n"
     ]
    }
   ],
   "source": [
    "print(stock_data['MA_10_AAPL'])"
   ]
  },
  {
   "cell_type": "code",
   "execution_count": 9,
   "id": "8730e818-70cf-432a-9b80-f4f6003e8458",
   "metadata": {
    "tags": []
   },
   "outputs": [
    {
     "name": "stdout",
     "output_type": "stream",
     "text": [
      "Date\n",
      "2020-01-02         NaN\n",
      "2020-01-03         NaN\n",
      "2020-01-06         NaN\n",
      "2020-01-07         NaN\n",
      "2020-01-08         NaN\n",
      "                ...   \n",
      "2021-12-23    1.789782\n",
      "2021-12-27    1.829559\n",
      "2021-12-28    1.861776\n",
      "2021-12-29    1.885588\n",
      "2021-12-30    1.908300\n",
      "Name: MA_20_AAPL, Length: 504, dtype: float64\n"
     ]
    }
   ],
   "source": [
    "print(stock_data['MA_20_AAPL'])"
   ]
  },
  {
   "cell_type": "markdown",
   "id": "8b0e065a-6d9e-42ac-b4a3-8633c75062cc",
   "metadata": {
    "tags": []
   },
   "source": [
    "Exponential Moving Average (EMA)\n",
    "EMA gives more weight to recent prices and reacts more quickly to price changes than the simple moving average."
   ]
  },
  {
   "cell_type": "code",
   "execution_count": 10,
   "id": "be80a4b2-33d9-4bef-9f5f-bb18942e11ed",
   "metadata": {
    "tags": []
   },
   "outputs": [],
   "source": [
    "# 12-day exponential moving average\n",
    "stock_data['EMA_12'] = stock_data['AAPL'].ewm(span=12, adjust=False).mean()\n",
    "\n",
    "# 26-day exponential moving average\n",
    "stock_data['EMA_26'] = stock_data['AAPL'].ewm(span=26, adjust=False).mean()\n"
   ]
  },
  {
   "cell_type": "code",
   "execution_count": 11,
   "id": "1db255c5-73d8-4d2d-a6fe-4539f09bf42f",
   "metadata": {
    "tags": []
   },
   "outputs": [
    {
     "name": "stdout",
     "output_type": "stream",
     "text": [
      "Date\n",
      "2020-01-02   -1.467389\n",
      "2020-01-03   -1.471132\n",
      "2020-01-06   -1.471261\n",
      "2020-01-07   -1.473178\n",
      "2020-01-08   -1.468647\n",
      "                ...   \n",
      "2021-12-23    1.874472\n",
      "2021-12-27    1.913703\n",
      "2021-12-28    1.941487\n",
      "2021-12-29    1.965464\n",
      "2021-12-30    1.979613\n",
      "Name: EMA_12, Length: 504, dtype: float64\n"
     ]
    }
   ],
   "source": [
    "print(stock_data['EMA_12'])"
   ]
  },
  {
   "cell_type": "code",
   "execution_count": 12,
   "id": "156cc8bf-80dc-4595-8051-35c5ff146a9f",
   "metadata": {
    "tags": []
   },
   "outputs": [
    {
     "name": "stdout",
     "output_type": "stream",
     "text": [
      "Date\n",
      "2020-01-02   -1.467389\n",
      "2020-01-03   -1.469191\n",
      "2020-01-06   -1.469397\n",
      "2020-01-07   -1.470458\n",
      "2020-01-08   -1.468478\n",
      "                ...   \n",
      "2021-12-23    1.711410\n",
      "2021-12-27    1.742377\n",
      "2021-12-28    1.768445\n",
      "2021-12-29    1.792808\n",
      "2021-12-30    1.812409\n",
      "Name: EMA_26, Length: 504, dtype: float64\n"
     ]
    }
   ],
   "source": [
    "print(stock_data['EMA_26'])"
   ]
  },
  {
   "cell_type": "markdown",
   "id": "9d6de0ef-438c-4952-b182-bc9d61c487a5",
   "metadata": {},
   "source": [
    " Relative Strength Index (RSI)\n",
    "RSI is a momentum indicator that measures the magnitude of recent price changes to evaluate overbought or oversold conditions."
   ]
  },
  {
   "cell_type": "code",
   "execution_count": 13,
   "id": "0039e62d-e17d-401b-a751-8ed11d93df75",
   "metadata": {
    "tags": []
   },
   "outputs": [
    {
     "name": "stdout",
     "output_type": "stream",
     "text": [
      "Date\n",
      "2020-01-02          NaN\n",
      "2020-01-03          NaN\n",
      "2020-01-06          NaN\n",
      "2020-01-07          NaN\n",
      "2020-01-08          NaN\n",
      "                ...    \n",
      "2021-12-23    66.108856\n",
      "2021-12-27    66.534449\n",
      "2021-12-28    59.995048\n",
      "2021-12-29    55.848749\n",
      "2021-12-30    54.863681\n",
      "Name: RSI_14, Length: 504, dtype: float64\n"
     ]
    }
   ],
   "source": [
    "def compute_rsi(data, window=14):\n",
    "    delta = data.diff()\n",
    "    gain = (delta.where(delta > 0, 0)).rolling(window=window).mean()\n",
    "    loss = (-delta.where(delta < 0, 0)).rolling(window=window).mean()\n",
    "\n",
    "    rs = gain / loss\n",
    "    rsi = 100 - (100 / (1 + rs))\n",
    "    return rsi\n",
    "\n",
    "stock_data['RSI_14'] = compute_rsi(stock_data['AAPL'], window=14)\n",
    "print(stock_data['RSI_14'])"
   ]
  },
  {
   "cell_type": "code",
   "execution_count": null,
   "id": "ec317da7-f30d-41ec-bb1c-f5c321a28e42",
   "metadata": {},
   "outputs": [],
   "source": []
  },
  {
   "cell_type": "markdown",
   "id": "76392d5b-5943-4dda-8767-7ae0455a7848",
   "metadata": {},
   "source": [
    "Bollinger Bands\n",
    "Bollinger Bands are volatility bands placed above and below a moving average, where volatility is based on the standard deviation."
   ]
  },
  {
   "cell_type": "code",
   "execution_count": 14,
   "id": "4a2fed46-bff2-4883-8e45-6f8fe49f5a52",
   "metadata": {
    "tags": []
   },
   "outputs": [
    {
     "name": "stdout",
     "output_type": "stream",
     "text": [
      "Date\n",
      "2020-01-02         NaN\n",
      "2020-01-03         NaN\n",
      "2020-01-06         NaN\n",
      "2020-01-07         NaN\n",
      "2020-01-08         NaN\n",
      "                ...   \n",
      "2021-12-23    2.230542\n",
      "2021-12-27    2.239625\n",
      "2021-12-28    2.246746\n",
      "2021-12-29    2.266774\n",
      "2021-12-30    2.272384\n",
      "Name: BB_upper, Length: 504, dtype: float64 Date\n",
      "2020-01-02         NaN\n",
      "2020-01-03         NaN\n",
      "2020-01-06         NaN\n",
      "2020-01-07         NaN\n",
      "2020-01-08         NaN\n",
      "                ...   \n",
      "2021-12-23    1.789782\n",
      "2021-12-27    1.829559\n",
      "2021-12-28    1.861776\n",
      "2021-12-29    1.885588\n",
      "2021-12-30    1.908300\n",
      "Name: BB_middle, Length: 504, dtype: float64 Date\n",
      "2020-01-02   NaN\n",
      "2020-01-03   NaN\n",
      "2020-01-06   NaN\n",
      "2020-01-07   NaN\n",
      "2020-01-08   NaN\n",
      "Name: BB_lower, dtype: float64\n"
     ]
    }
   ],
   "source": [
    "def compute_bollinger_bands(data, window=20):\n",
    "    middle_band = data.rolling(window=window).mean()\n",
    "    std_dev = data.rolling(window=window).std()\n",
    "    upper_band = middle_band + 2 * std_dev\n",
    "    lower_band = middle_band - 2 * std_dev\n",
    "    return upper_band, middle_band, lower_band\n",
    "\n",
    "stock_data['BB_upper'], stock_data['BB_middle'], stock_data['BB_lower'] = compute_bollinger_bands(stock_data['AAPL'], window=20)\n",
    "print(stock_data['BB_upper'], stock_data['BB_middle'], stock_data['BB_lower'].head())"
   ]
  },
  {
   "cell_type": "markdown",
   "id": "0de75719-788e-4ab8-9335-1da9b0c07085",
   "metadata": {},
   "source": [
    "Volume-based features\n",
    "Volume is an important aspect of stock trading, and incorporating volume-based features can be beneficial."
   ]
  },
  {
   "cell_type": "code",
   "execution_count": 15,
   "id": "5dfb7c59-16bc-4bea-a549-4a40eddfe473",
   "metadata": {
    "tags": []
   },
   "outputs": [
    {
     "name": "stdout",
     "output_type": "stream",
     "text": [
      "Ticker           AAPL     ADBE      AMZN     GOOGL      INTC      META  \\\n",
      "Date                                                                     \n",
      "2020-01-02  135480400  1990100  80580000  27278000  18056000  12077100   \n",
      "2020-01-03  146322800  1577600  75288000  23408000  15293900  11188400   \n",
      "2020-01-06  118387200  1874700  81236000  46768000  17755200  17058900   \n",
      "2020-01-07  108872000  2500800  80898000  34330000  21876100  14912400   \n",
      "2020-01-08  132079200  2248500  70160000  35314000  23133500  13475000   \n",
      "\n",
      "Ticker          MSFT     NFLX      NVDA       TSLA  Volume_MA_10_AAPL  \\\n",
      "Date                                                                    \n",
      "2020-01-02  22622100  4485800  23753600  142981500                NaN   \n",
      "2020-01-03  21116200  3806900  20538400  266677500                NaN   \n",
      "2020-01-06  20813700  5663100  26263600  151995000                NaN   \n",
      "2020-01-07  21634100  4703200  31485600  268231500                NaN   \n",
      "2020-01-08  27746500  7104500  27710800  467164500                NaN   \n",
      "\n",
      "Ticker      Volume_change_AAPL  \n",
      "Date                            \n",
      "2020-01-02                 NaN  \n",
      "2020-01-03            0.080029  \n",
      "2020-01-06           -0.190918  \n",
      "2020-01-07           -0.080374  \n",
      "2020-01-08            0.213160  \n"
     ]
    }
   ],
   "source": [
    "volume_data = volume_data.copy()\n",
    "volume_data.loc[:, 'Volume_MA_10_AAPL'] = volume_data['AAPL'].rolling(window=10).mean()\n",
    "volume_data.loc[:, 'Volume_change_AAPL'] = volume_data['AAPL'].pct_change()\n",
    "\n",
    "# Print the first few rows to check\n",
    "print(volume_data.head())\n"
   ]
  },
  {
   "cell_type": "code",
   "execution_count": 16,
   "id": "98c42de2-2748-4ccb-81d9-c0e234c1a98c",
   "metadata": {
    "tags": []
   },
   "outputs": [],
   "source": [
    "# Prepare the data for modeling\n",
    "X = stock_data.drop(columns=['AAPL'])\n",
    "y = stock_data['AAPL']\n"
   ]
  },
  {
   "cell_type": "code",
   "execution_count": 17,
   "id": "7fc1aa98-e41f-483d-9ffd-01fad1eda82d",
   "metadata": {
    "tags": []
   },
   "outputs": [],
   "source": [
    "# Split the data into training and testing sets\n",
    "X_train, X_test, y_train, y_test = train_test_split(X, y, test_size=0.2, random_state=42)\n"
   ]
  },
  {
   "cell_type": "code",
   "execution_count": 18,
   "id": "195b9de9-ae15-415e-b43c-e3202b0416e1",
   "metadata": {
    "tags": []
   },
   "outputs": [],
   "source": [
    "# Standardize the features\n",
    "scaler = StandardScaler()\n",
    "X_train_scaled = scaler.fit_transform(X_train)\n",
    "X_test_scaled = scaler.transform(X_test)"
   ]
  },
  {
   "cell_type": "code",
   "execution_count": 19,
   "id": "45e89845-0632-495f-a6ea-bb71da17ac42",
   "metadata": {
    "tags": []
   },
   "outputs": [
    {
     "name": "stdout",
     "output_type": "stream",
     "text": [
      "NaN values in X_train_scaled: 74\n",
      "NaN values in y_train: 0\n",
      "NaN values in X_train_scaled_imputed: 0\n",
      "NaN values in X_test_scaled_imputed: 0\n",
      "Linear Regression R-squared: 0.9965575080572787\n"
     ]
    }
   ],
   "source": [
    "# Check for NaN values in the training data\n",
    "print(\"NaN values in X_train_scaled:\", np.isnan(X_train_scaled).sum())\n",
    "print(\"NaN values in y_train:\", y_train.isna().sum())\n",
    "\n",
    "# If there are NaN values, you can drop them or impute them\n",
    "# Option 1: Drop rows with NaN values (make sure to drop corresponding rows in y_train as well)\n",
    "# X_train_scaled = X_train_scaled[~np.isnan(X_train_scaled).any(axis=1)]\n",
    "# y_train = y_train[~np.isnan(X_train_scaled).any(axis=1)]\n",
    "\n",
    "# Option 2: Impute NaN values (e.g., with the mean of each column)\n",
    "from sklearn.impute import SimpleImputer\n",
    "# Fit the imputer on the training data\n",
    "imputer = SimpleImputer(strategy='mean')\n",
    "X_train_scaled_imputed = imputer.fit_transform(X_train_scaled)\n",
    "X_test_scaled_imputed = imputer.transform(X_test_scaled)\n",
    "\n",
    "# Check for NaN values in the imputed data\n",
    "print(\"NaN values in X_train_scaled_imputed:\", np.isnan(X_train_scaled_imputed).sum())\n",
    "print(\"NaN values in X_test_scaled_imputed:\", np.isnan(X_test_scaled_imputed).sum())\n",
    "\n",
    "# Fit the Linear Regression model using the imputed training data\n",
    "lr_model = LinearRegression()\n",
    "lr_model.fit(X_train_scaled_imputed, y_train)\n",
    "\n",
    "# Predict using the trained model\n",
    "y_pred_lr = lr_model.predict(X_test_scaled_imputed)\n",
    "\n",
    "# Evaluate the model\n",
    "print(\"Linear Regression R-squared:\", r2_score(y_test, y_pred_lr))\n"
   ]
  },
  {
   "cell_type": "code",
   "execution_count": 20,
   "id": "852486b6-73a2-42b7-9781-4aa5b682b5a8",
   "metadata": {
    "tags": []
   },
   "outputs": [
    {
     "name": "stdout",
     "output_type": "stream",
     "text": [
      "NaN values in X_train_scaled: 74\n",
      "NaN values in y_train: 0\n",
      "NaN values in X_train_scaled_imputed: 0\n",
      "NaN values in X_test_scaled_imputed: 0\n",
      "Lasso Regression R-squared: 0.9772685892509942\n"
     ]
    }
   ],
   "source": [
    "from sklearn.linear_model import Lasso\n",
    "\n",
    "# Check for NaN values in the training data\n",
    "print(\"NaN values in X_train_scaled:\", np.isnan(X_train_scaled).sum())\n",
    "print(\"NaN values in y_train:\", y_train.isna().sum())\n",
    "\n",
    "# Option 1: Drop rows with NaN values (make sure to drop corresponding rows in y_train as well)\n",
    "# X_train_scaled = X_train_scaled[~np.isnan(X_train_scaled).any(axis=1)]\n",
    "# y_train = y_train[~np.isnan(X_train_scaled).any(axis=1)]\n",
    "\n",
    "# Option 2: Impute NaN values (e.g., with the mean of each column)\n",
    "from sklearn.impute import SimpleImputer\n",
    "# Fit the imputer on the training data\n",
    "imputer = SimpleImputer(strategy='mean')\n",
    "X_train_scaled_imputed = imputer.fit_transform(X_train_scaled)\n",
    "X_test_scaled_imputed = imputer.transform(X_test_scaled)\n",
    "\n",
    "# Check for NaN values in the imputed data\n",
    "print(\"NaN values in X_train_scaled_imputed:\", np.isnan(X_train_scaled_imputed).sum())\n",
    "print(\"NaN values in X_test_scaled_imputed:\", np.isnan(X_test_scaled_imputed).sum())\n",
    "\n",
    "# Fit the Lasso Regression model using the imputed training data\n",
    "lasso_model = Lasso(alpha=0.1)\n",
    "lasso_model.fit(X_train_scaled_imputed, y_train)\n",
    "\n",
    "# Predict using the trained model\n",
    "y_pred_lasso = lasso_model.predict(X_test_scaled_imputed)\n",
    "\n",
    "# Evaluate the model\n",
    "print(\"Lasso Regression R-squared:\", r2_score(y_test, y_pred_lasso))\n"
   ]
  },
  {
   "cell_type": "code",
   "execution_count": 21,
   "id": "d018cceb-7c1c-4301-b830-69a69fb29de1",
   "metadata": {
    "tags": []
   },
   "outputs": [
    {
     "name": "stdout",
     "output_type": "stream",
     "text": [
      "NaN values in X_train_scaled: 74\n",
      "NaN values in y_train: 0\n",
      "NaN values in X_train_scaled_imputed: 0\n",
      "NaN values in X_test_scaled_imputed: 0\n",
      "PCA + Linear Regression R-squared: 0.9843642142679628\n"
     ]
    }
   ],
   "source": [
    "from sklearn.decomposition import PCA\n",
    "\n",
    "# Check for NaN values in the training data\n",
    "print(\"NaN values in X_train_scaled:\", np.isnan(X_train_scaled).sum())\n",
    "print(\"NaN values in y_train:\", y_train.isna().sum())\n",
    "\n",
    "# Option 1: Drop rows with NaN values (make sure to drop corresponding rows in y_train as well)\n",
    "# X_train_scaled = X_train_scaled[~np.isnan(X_train_scaled).any(axis=1)]\n",
    "# y_train = y_train[~np.isnan(X_train_scaled).any(axis=1)]\n",
    "\n",
    "# Option 2: Impute NaN values (e.g., with the mean of each column)\n",
    "from sklearn.impute import SimpleImputer\n",
    "# Fit the imputer on the training data\n",
    "imputer = SimpleImputer(strategy='mean')\n",
    "X_train_scaled_imputed = imputer.fit_transform(X_train_scaled)\n",
    "X_test_scaled_imputed = imputer.transform(X_test_scaled)\n",
    "\n",
    "# Check for NaN values in the imputed data\n",
    "print(\"NaN values in X_train_scaled_imputed:\", np.isnan(X_train_scaled_imputed).sum())\n",
    "print(\"NaN values in X_test_scaled_imputed:\", np.isnan(X_test_scaled_imputed).sum())\n",
    "\n",
    "# Apply PCA after handling NaN values\n",
    "pca = PCA(n_components=5)\n",
    "X_train_pca = pca.fit_transform(X_train_scaled_imputed)\n",
    "X_test_pca = pca.transform(X_test_scaled_imputed)\n",
    "\n",
    "# Fit the Linear Regression model using the PCA-transformed data\n",
    "lr_model_pca = LinearRegression()\n",
    "lr_model_pca.fit(X_train_pca, y_train)\n",
    "\n",
    "# Predict using the trained model\n",
    "y_pred_pca = lr_model_pca.predict(X_test_pca)\n",
    "\n",
    "# Evaluate the model\n",
    "print(\"PCA + Linear Regression R-squared:\", r2_score(y_test, y_pred_pca))\n"
   ]
  },
  {
   "cell_type": "code",
   "execution_count": 22,
   "id": "fd07aaae-1196-42b5-93ee-5dcd59c82cea",
   "metadata": {
    "tags": []
   },
   "outputs": [
    {
     "name": "stdout",
     "output_type": "stream",
     "text": [
      "KNN Accuracy: 0.9702970297029703\n",
      "Confusion Matrix:\n",
      "[[32  0  0  0]\n",
      " [ 1 36  0  0]\n",
      " [ 0  1 30  0]\n",
      " [ 0  0  1  0]]\n",
      "\n",
      "Classification Report:\n",
      "              precision    recall  f1-score   support\n",
      "\n",
      "           1       0.97      1.00      0.98        32\n",
      "           2       0.97      0.97      0.97        37\n",
      "           3       0.97      0.97      0.97        31\n",
      "           4       1.00      0.00      0.00         1\n",
      "\n",
      "    accuracy                           0.97       101\n",
      "   macro avg       0.98      0.74      0.73       101\n",
      "weighted avg       0.97      0.97      0.97       101\n",
      "\n"
     ]
    }
   ],
   "source": [
    "from sklearn.impute import SimpleImputer\n",
    "from sklearn.neighbors import KNeighborsClassifier\n",
    "from sklearn.metrics import accuracy_score, confusion_matrix, classification_report\n",
    "import numpy as np\n",
    "\n",
    "# Discretize the target variable into classes\n",
    "y_train_discrete = np.digitize(y_train, bins=np.histogram_bin_edges(y_train, bins=3))\n",
    "y_test_discrete = np.digitize(y_test, bins=np.histogram_bin_edges(y_test, bins=3))\n",
    "\n",
    "# Impute missing values in the training set\n",
    "imputer = SimpleImputer(strategy='mean')\n",
    "X_train_scaled_imputed = imputer.fit_transform(X_train_scaled)\n",
    "\n",
    "# Impute missing values in the test set\n",
    "X_test_scaled_imputed = imputer.transform(X_test_scaled)\n",
    "\n",
    "# Build and train the KNN classifier\n",
    "knn = KNeighborsClassifier(n_neighbors=3)\n",
    "knn.fit(X_train_scaled_imputed, y_train_discrete)\n",
    "\n",
    "# Predict on the test set\n",
    "y_pred = knn.predict(X_test_scaled_imputed)\n",
    "\n",
    "# Evaluate the classifier\n",
    "accuracy = accuracy_score(y_test_discrete, y_pred)\n",
    "print(\"KNN Accuracy:\", accuracy)\n",
    "\n",
    "# Calculate confusion matrix\n",
    "cm = confusion_matrix(y_test_discrete, y_pred)\n",
    "print(\"Confusion Matrix:\")\n",
    "print(cm)\n",
    "\n",
    "# Calculate classification report\n",
    "cr = classification_report(y_test_discrete, y_pred, zero_division=1)\n",
    "print(\"\\nClassification Report:\")\n",
    "print(cr)"
   ]
  },
  {
   "cell_type": "code",
   "execution_count": 23,
   "id": "9d1065c4-58b7-4f07-9d9d-0dc226c7bc4f",
   "metadata": {
    "tags": []
   },
   "outputs": [
    {
     "name": "stdout",
     "output_type": "stream",
     "text": [
      "AdaBoost Accuracy: 0.9801980198019802\n",
      "Confusion Matrix:\n",
      "[[61  2]\n",
      " [ 0 38]]\n",
      "\n",
      "Classification Report:\n",
      "              precision    recall  f1-score   support\n",
      "\n",
      "           0       1.00      0.97      0.98        63\n",
      "           1       0.95      1.00      0.97        38\n",
      "\n",
      "    accuracy                           0.98       101\n",
      "   macro avg       0.97      0.98      0.98       101\n",
      "weighted avg       0.98      0.98      0.98       101\n",
      "\n"
     ]
    }
   ],
   "source": [
    "#adaboost\n",
    "# Assuming 'AAPL' is the target column\n",
    "target = stock_data['AAPL']\n",
    "\n",
    "# Convert 'target' to binary based on a threshold\n",
    "threshold = 0.5\n",
    "y_binary = (target > threshold).astype(int)\n",
    "\n",
    "# Split the data into training and test sets\n",
    "X_train, X_test, y_train, y_test = train_test_split(X, y_binary, test_size=0.2, random_state=42)\n",
    "\n",
    "# Standardize the features\n",
    "scaler = StandardScaler()\n",
    "X_train_scaled = scaler.fit_transform(X_train)\n",
    "X_test_scaled = scaler.transform(X_test)\n",
    "\n",
    "# Impute missing values in the training set\n",
    "imputer = SimpleImputer(strategy='mean')\n",
    "X_train_ada_imputed = imputer.fit_transform(X_train_scaled)\n",
    "\n",
    "# Impute missing values in the test set\n",
    "X_test_ada_imputed = imputer.transform(X_test_scaled)\n",
    "\n",
    "# Build and train the AdaBoost classifier\n",
    "ada_model = AdaBoostClassifier(n_estimators=50, random_state=42, algorithm='SAMME')\n",
    "ada_model.fit(X_train_ada_imputed, y_train)\n",
    "\n",
    "# Predict on the test set\n",
    "y_pred_ada = ada_model.predict(X_test_ada_imputed)\n",
    "\n",
    "# Evaluate the classifier\n",
    "accuracy_ada = accuracy_score(y_test, y_pred_ada)\n",
    "print(\"AdaBoost Accuracy:\", accuracy_ada)\n",
    "\n",
    "# Confusion matrix and classification report\n",
    "print(\"Confusion Matrix:\")\n",
    "print(confusion_matrix(y_test, y_pred_ada))\n",
    "\n",
    "print(\"\\nClassification Report:\")\n",
    "print(classification_report(y_test, y_pred_ada))\n"
   ]
  },
  {
   "cell_type": "code",
   "execution_count": 25,
   "id": "2de0cd9b-8663-4d60-b63c-5df1c94f9f98",
   "metadata": {
    "tags": []
   },
   "outputs": [
    {
     "name": "stdout",
     "output_type": "stream",
     "text": [
      "Logistic Regression Accuracy: 0.9801980198019802\n",
      "Confusion Matrix:\n",
      " [[62  1]\n",
      " [ 1 37]]\n",
      "Classification Report:\n",
      "               precision    recall  f1-score   support\n",
      "\n",
      "           0       0.98      0.98      0.98        63\n",
      "           2       0.97      0.97      0.97        38\n",
      "\n",
      "    accuracy                           0.98       101\n",
      "   macro avg       0.98      0.98      0.98       101\n",
      "weighted avg       0.98      0.98      0.98       101\n",
      "\n"
     ]
    }
   ],
   "source": [
    "from sklearn.preprocessing import KBinsDiscretizer\n",
    "from sklearn.linear_model import LogisticRegression\n",
    "from sklearn.metrics import accuracy_score, confusion_matrix, classification_report\n",
    "\n",
    "# Discretize the target variable into bins\n",
    "discretizer = KBinsDiscretizer(n_bins=3, encode='ordinal', strategy='uniform', subsample=200_000)\n",
    "y_train_discretized = discretizer.fit_transform(y_train.values.reshape(-1, 1)).astype(int).ravel()\n",
    "y_test_discretized = discretizer.transform(y_test.values.reshape(-1, 1)).astype(int).ravel()\n",
    "\n",
    "# Fit the model with the discretized target variable\n",
    "log_reg = LogisticRegression(max_iter=1000)\n",
    "log_reg.fit(X_train_scaled_imputed, y_train_discretized)\n",
    "y_pred_log_reg = log_reg.predict(X_test_scaled_imputed)\n",
    "\n",
    "# Evaluate the model\n",
    "accuracy = accuracy_score(y_test_discretized, y_pred_log_reg)\n",
    "print(\"Logistic Regression Accuracy:\", accuracy)\n",
    "print(\"Confusion Matrix:\\n\", confusion_matrix(y_test_discretized, y_pred_log_reg))\n",
    "print(\"Classification Report:\\n\", classification_report(y_test_discretized, y_pred_log_reg))\n"
   ]
  },
  {
   "cell_type": "code",
   "execution_count": 26,
   "id": "0094d4ba-379e-4315-be6b-20dc1d4cc6ac",
   "metadata": {
    "tags": []
   },
   "outputs": [
    {
     "name": "stdout",
     "output_type": "stream",
     "text": [
      "SVM Accuracy: 0.9702970297029703\n",
      "Confusion Matrix:\n",
      "[[61  2]\n",
      " [ 1 37]]\n",
      "\n",
      "Classification Report:\n",
      "              precision    recall  f1-score   support\n",
      "\n",
      "           0       0.98      0.97      0.98        63\n",
      "           1       0.95      0.97      0.96        38\n",
      "\n",
      "    accuracy                           0.97       101\n",
      "   macro avg       0.97      0.97      0.97       101\n",
      "weighted avg       0.97      0.97      0.97       101\n",
      "\n"
     ]
    }
   ],
   "source": [
    "# Assuming 'AAPL' is the target column\n",
    "target = stock_data['AAPL']\n",
    "\n",
    "# Convert 'target' to binary based on a threshold\n",
    "threshold = 0.5\n",
    "y_binary = (target > threshold).astype(int)\n",
    "\n",
    "# Split the data into training and test sets\n",
    "X_train, X_test, y_train, y_test = train_test_split(X, y_binary, test_size=0.2, random_state=42)\n",
    "\n",
    "# Standardize the features\n",
    "scaler = StandardScaler()\n",
    "X_train_scaled = scaler.fit_transform(X_train)\n",
    "X_test_scaled = scaler.transform(X_test)\n",
    "\n",
    "# Impute missing values in the training set\n",
    "imputer = SimpleImputer(strategy='mean')\n",
    "X_train_svm_imputed = imputer.fit_transform(X_train_scaled)\n",
    "\n",
    "# Impute missing values in the test set\n",
    "X_test_svm_imputed = imputer.transform(X_test_scaled)\n",
    "\n",
    "# Build and train the SVM classifier\n",
    "svm_model = SVC()\n",
    "svm_model.fit(X_train_svm_imputed, y_train)\n",
    "\n",
    "# Predict on the test set\n",
    "y_pred_svm = svm_model.predict(X_test_svm_imputed)\n",
    "\n",
    "# Evaluate the classifier\n",
    "accuracy_svm = accuracy_score(y_test, y_pred_svm)\n",
    "print(\"SVM Accuracy:\", accuracy_svm)\n",
    "\n",
    "# Confusion matrix and classification report\n",
    "print(\"Confusion Matrix:\")\n",
    "print(confusion_matrix(y_test, y_pred_svm))\n",
    "\n",
    "print(\"\\nClassification Report:\")\n",
    "print(classification_report(y_test, y_pred_svm))"
   ]
  },
  {
   "cell_type": "code",
   "execution_count": 27,
   "id": "91b38f7b-d198-4767-9314-2f077715ceda",
   "metadata": {
    "tags": []
   },
   "outputs": [
    {
     "name": "stdout",
     "output_type": "stream",
     "text": [
      "Random Forest Accuracy: 0.9801980198019802\n",
      "Confusion Matrix:\n",
      "[[61  2]\n",
      " [ 0 38]]\n",
      "\n",
      "Classification Report:\n",
      "              precision    recall  f1-score   support\n",
      "\n",
      "           0       1.00      0.97      0.98        63\n",
      "           1       0.95      1.00      0.97        38\n",
      "\n",
      "    accuracy                           0.98       101\n",
      "   macro avg       0.97      0.98      0.98       101\n",
      "weighted avg       0.98      0.98      0.98       101\n",
      "\n"
     ]
    }
   ],
   "source": [
    "# Assuming 'AAPL' is the target column\n",
    "target = stock_data['AAPL']\n",
    "\n",
    "# Convert 'target' to binary based on a threshold\n",
    "threshold = 0.5\n",
    "y_binary = (target > threshold).astype(int)\n",
    "\n",
    "# Split the data into training and test sets\n",
    "X_train, X_test, y_train, y_test = train_test_split(X, y_binary, test_size=0.2, random_state=42)\n",
    "\n",
    "# Standardize the features\n",
    "scaler = StandardScaler()\n",
    "X_train_scaled = scaler.fit_transform(X_train)\n",
    "X_test_scaled = scaler.transform(X_test)\n",
    "\n",
    "# Impute missing values in the training set\n",
    "imputer = SimpleImputer(strategy='mean')\n",
    "X_train_rf_imputed = imputer.fit_transform(X_train_scaled)\n",
    "\n",
    "# Impute missing values in the test set\n",
    "X_test_rf_imputed = imputer.transform(X_test_scaled)\n",
    "\n",
    "# Build and train the Random Forest classifier\n",
    "rf_model = RandomForestClassifier(n_estimators=100, random_state=42)\n",
    "rf_model.fit(X_train_rf_imputed, y_train)\n",
    "\n",
    "# Predict on the test set\n",
    "y_pred_rf = rf_model.predict(X_test_rf_imputed)\n",
    "\n",
    "# Evaluate the classifier\n",
    "accuracy_rf = accuracy_score(y_test, y_pred_rf)\n",
    "print(\"Random Forest Accuracy:\", accuracy_rf)\n",
    "\n",
    "# Confusion matrix and classification report\n",
    "print(\"Confusion Matrix:\")\n",
    "print(confusion_matrix(y_test, y_pred_rf))\n",
    "\n",
    "print(\"\\nClassification Report:\")\n",
    "print(classification_report(y_test, y_pred_rf))"
   ]
  },
  {
   "cell_type": "code",
   "execution_count": 28,
   "id": "e1ede54b-70dd-42fc-ba2c-d3ef4599e7d5",
   "metadata": {
    "tags": []
   },
   "outputs": [
    {
     "name": "stdout",
     "output_type": "stream",
     "text": [
      "Gradient Boosting Accuracy: 0.9801980198019802\n",
      "Confusion Matrix:\n",
      "[[61  2]\n",
      " [ 0 38]]\n",
      "\n",
      "Classification Report:\n",
      "              precision    recall  f1-score   support\n",
      "\n",
      "           0       1.00      0.97      0.98        63\n",
      "           1       0.95      1.00      0.97        38\n",
      "\n",
      "    accuracy                           0.98       101\n",
      "   macro avg       0.97      0.98      0.98       101\n",
      "weighted avg       0.98      0.98      0.98       101\n",
      "\n"
     ]
    }
   ],
   "source": [
    "# Assuming 'AAPL' is the target column\n",
    "target = stock_data['AAPL']\n",
    "\n",
    "# Convert 'target' to binary based on a threshold\n",
    "threshold = 0.5\n",
    "y_binary = (target > threshold).astype(int)\n",
    "\n",
    "# Split the data into training and test sets\n",
    "X_train, X_test, y_train, y_test = train_test_split(X, y_binary, test_size=0.2, random_state=42)\n",
    "\n",
    "# Standardize the features\n",
    "scaler = StandardScaler()\n",
    "X_train_scaled = scaler.fit_transform(X_train)\n",
    "X_test_scaled = scaler.transform(X_test)\n",
    "\n",
    "# Impute missing values in the training set\n",
    "imputer = SimpleImputer(strategy='mean')\n",
    "X_train_gb_imputed = imputer.fit_transform(X_train_scaled)\n",
    "\n",
    "# Impute missing values in the test set\n",
    "X_test_gb_imputed = imputer.transform(X_test_scaled)\n",
    "\n",
    "# Build and train the Gradient Boosting classifier\n",
    "gb_model = GradientBoostingClassifier(n_estimators=100, random_state=42)\n",
    "gb_model.fit(X_train_gb_imputed, y_train)\n",
    "\n",
    "# Predict on the test set\n",
    "y_pred_gb = gb_model.predict(X_test_gb_imputed)\n",
    "\n",
    "# Evaluate the classifier\n",
    "accuracy_gb = accuracy_score(y_test, y_pred_gb)\n",
    "print(\"Gradient Boosting Accuracy:\", accuracy_gb)\n",
    "\n",
    "# Confusion matrix and classification report\n",
    "print(\"Confusion Matrix:\")\n",
    "print(confusion_matrix(y_test, y_pred_gb))\n",
    "\n",
    "print(\"\\nClassification Report:\")\n",
    "print(classification_report(y_test, y_pred_gb))"
   ]
  },
  {
   "cell_type": "code",
   "execution_count": 29,
   "id": "11ca6811-2a55-45ec-8047-a90a9ec35fa9",
   "metadata": {
    "tags": []
   },
   "outputs": [
    {
     "name": "stdout",
     "output_type": "stream",
     "text": [
      "Gradient Boosting Accuracy: 0.9801980198019802\n",
      "Confusion Matrix:\n",
      "[[61  2]\n",
      " [ 0 38]]\n",
      "\n",
      "Classification Report:\n",
      "              precision    recall  f1-score   support\n",
      "\n",
      "           0       1.00      0.97      0.98        63\n",
      "           1       0.95      1.00      0.97        38\n",
      "\n",
      "    accuracy                           0.98       101\n",
      "   macro avg       0.97      0.98      0.98       101\n",
      "weighted avg       0.98      0.98      0.98       101\n",
      "\n"
     ]
    }
   ],
   "source": [
    "# Assuming 'AAPL' is the target column\n",
    "target = stock_data['AAPL']\n",
    "\n",
    "# Convert 'target' to binary based on a threshold\n",
    "threshold = 0.5\n",
    "y_binary = (target > threshold).astype(int)\n",
    "\n",
    "# Split the data into training and test sets\n",
    "X_train, X_test, y_train, y_test = train_test_split(X, y_binary, test_size=0.2, random_state=42)\n",
    "\n",
    "# Standardize the features\n",
    "scaler = StandardScaler()\n",
    "X_train_scaled = scaler.fit_transform(X_train)\n",
    "X_test_scaled = scaler.transform(X_test)\n",
    "\n",
    "# Impute missing values in the training set\n",
    "imputer = SimpleImputer(strategy='mean')\n",
    "X_train_gb_imputed = imputer.fit_transform(X_train_scaled)\n",
    "\n",
    "# Impute missing values in the test set\n",
    "X_test_gb_imputed = imputer.transform(X_test_scaled)\n",
    "\n",
    "# Build and train the Gradient Boosting classifier\n",
    "gb_model = GradientBoostingClassifier(n_estimators=100, learning_rate=0.1, random_state=42)\n",
    "gb_model.fit(X_train_gb_imputed, y_train)\n",
    "\n",
    "# Predict on the test set\n",
    "y_pred_gb = gb_model.predict(X_test_gb_imputed)\n",
    "\n",
    "# Evaluate the classifier\n",
    "accuracy_gb = accuracy_score(y_test, y_pred_gb)\n",
    "print(\"Gradient Boosting Accuracy:\", accuracy_gb)\n",
    "\n",
    "# Confusion matrix and classification report\n",
    "print(\"Confusion Matrix:\")\n",
    "print(confusion_matrix(y_test, y_pred_gb))\n",
    "\n",
    "print(\"\\nClassification Report:\")\n",
    "print(classification_report(y_test, y_pred_gb))"
   ]
  },
  {
   "cell_type": "code",
   "execution_count": null,
   "id": "acbd29d5-b574-4952-9c27-3955c588403c",
   "metadata": {},
   "outputs": [],
   "source": []
  }
 ],
 "metadata": {
  "kernelspec": {
   "display_name": "Python 3 (ipykernel)",
   "language": "python",
   "name": "python3"
  },
  "language_info": {
   "codemirror_mode": {
    "name": "ipython",
    "version": 3
   },
   "file_extension": ".py",
   "mimetype": "text/x-python",
   "name": "python",
   "nbconvert_exporter": "python",
   "pygments_lexer": "ipython3",
   "version": "3.11.3"
  }
 },
 "nbformat": 4,
 "nbformat_minor": 5
}
