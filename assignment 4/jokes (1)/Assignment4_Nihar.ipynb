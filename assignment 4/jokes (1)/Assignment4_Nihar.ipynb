{
 "cells": [
  {
   "cell_type": "markdown",
   "id": "21c3f3d4-99da-46b9-8cb9-f845a56487b4",
   "metadata": {},
   "source": [
    "## Nihar Muniraju"
   ]
  },
  {
   "cell_type": "markdown",
   "id": "e91f0e06-559e-4fbc-b7dc-575863e417ac",
   "metadata": {
    "jp-MarkdownHeadingCollapsed": true
   },
   "source": [
    "### Assignment 4"
   ]
  },
  {
   "cell_type": "markdown",
   "id": "6655d7c0-a8a9-407b-ad11-df90579be34f",
   "metadata": {},
   "source": [
    "### Item-Based Joke Recommendation [Dataset: jokes.zip]\n",
    "For this problem you will use a modified version of the item-based recommender algorithm from Ch. 14 of Machine Learning in Action and use it on joke ratings data based on Jester Online Joke Recommender System. The modified version of the code is provided in the module itemBasedRec.py. Most of the module will be used as is, but you will add some additional functionality.\n",
    "\n",
    "The data set contains two files. The file \"modified_jester_data.csv\" contains the ratings on 100 jokes by 1000 users (each row is a user profile). The ratings have been normalized to be between 1 and 21 (a 20-point scale), with 1 being the lowest rating. A zero indicated a missing rating. The file \"jokes.csv\" contains the joke ids mapped to the actual text of the jokes.\n",
    "\n",
    "Your tasks in this problem are the following (please also see comments for the function stubs in the provided module):"
   ]
  },
  {
   "cell_type": "markdown",
   "id": "c3f03eaa-993d-4dfe-9fa1-46857fc69ca1",
   "metadata": {},
   "source": [
    "### PART A: [15 pts] Load in the joke ratings data and the joke text data into appropriate data structures. Use the \"recommend\" function to provide top 5 joke recommendations for users with id 4 using both Pearson and cosine similarity measures. Note the differences. Use the standard item-based collaborative filtering (based on the rating prediction function \"standEst\"). Next, find the top 5 recommendations for user with id 25 only with Pearson similarity using both the standard estimator and the SVD-based version (using \"svdEst\" as the prediction engine) to generate these recommendations. Note the differences. When outputting recommendations, you should show both the id and the text of the recommended jokes (in decreasing order of predicted rating) as well as the predicted ratings for each."
   ]
  },
  {
   "cell_type": "code",
   "execution_count": 42,
   "id": "ea3caee7-9065-4c9c-b1c8-b9e29e5097a0",
   "metadata": {},
   "outputs": [],
   "source": [
    "import pandas as pd\n",
    "import numpy as np\n",
    "import matplotlib.pyplot as plt\n",
    "from numpy import linalg as la\n",
    "from numpy import *\n",
    "from numpy import mat, shape, nonzero, logical_and, corrcoef, eye"
   ]
  },
  {
   "cell_type": "code",
   "execution_count": 2,
   "id": "fadcb4a5-5211-4a47-9353-00b0c3504406",
   "metadata": {},
   "outputs": [],
   "source": [
    "# Loading joke ratings data\n",
    "joke_ratings_df = pd.read_csv('N:/Programming machine learning/assignment 4/jokes (1)/modified_jester_data.csv', header=None)\n",
    "joke_ratings_matrix = joke_ratings_df.to_numpy()\n",
    "\n",
    "# Loading joke text data\n",
    "joke_texts_df = pd.read_csv('N:/Programming machine learning/assignment 4/jokes (1)/jokes.csv', header=None, usecols=[1])\n",
    "joke_texts_list = joke_texts_df[1].tolist()\n"
   ]
  },
  {
   "cell_type": "code",
   "execution_count": 3,
   "id": "bba2ed95-992d-47a7-ab45-790f0de2c66d",
   "metadata": {},
   "outputs": [
    {
     "data": {
      "text/html": [
       "<div>\n",
       "<style scoped>\n",
       "    .dataframe tbody tr th:only-of-type {\n",
       "        vertical-align: middle;\n",
       "    }\n",
       "\n",
       "    .dataframe tbody tr th {\n",
       "        vertical-align: top;\n",
       "    }\n",
       "\n",
       "    .dataframe thead th {\n",
       "        text-align: right;\n",
       "    }\n",
       "</style>\n",
       "<table border=\"1\" class=\"dataframe\">\n",
       "  <thead>\n",
       "    <tr style=\"text-align: right;\">\n",
       "      <th></th>\n",
       "      <th>0</th>\n",
       "      <th>1</th>\n",
       "      <th>2</th>\n",
       "      <th>3</th>\n",
       "      <th>4</th>\n",
       "      <th>5</th>\n",
       "      <th>6</th>\n",
       "      <th>7</th>\n",
       "      <th>8</th>\n",
       "      <th>9</th>\n",
       "      <th>...</th>\n",
       "      <th>90</th>\n",
       "      <th>91</th>\n",
       "      <th>92</th>\n",
       "      <th>93</th>\n",
       "      <th>94</th>\n",
       "      <th>95</th>\n",
       "      <th>96</th>\n",
       "      <th>97</th>\n",
       "      <th>98</th>\n",
       "      <th>99</th>\n",
       "    </tr>\n",
       "  </thead>\n",
       "  <tbody>\n",
       "    <tr>\n",
       "      <th>0</th>\n",
       "      <td>3.18</td>\n",
       "      <td>19.79</td>\n",
       "      <td>1.34</td>\n",
       "      <td>2.84</td>\n",
       "      <td>3.48</td>\n",
       "      <td>2.50</td>\n",
       "      <td>1.15</td>\n",
       "      <td>15.17</td>\n",
       "      <td>2.02</td>\n",
       "      <td>6.24</td>\n",
       "      <td>...</td>\n",
       "      <td>13.82</td>\n",
       "      <td>0.00</td>\n",
       "      <td>0.00</td>\n",
       "      <td>0.00</td>\n",
       "      <td>0.00</td>\n",
       "      <td>0.00</td>\n",
       "      <td>5.37</td>\n",
       "      <td>0.00</td>\n",
       "      <td>0.00</td>\n",
       "      <td>0.00</td>\n",
       "    </tr>\n",
       "    <tr>\n",
       "      <th>1</th>\n",
       "      <td>15.08</td>\n",
       "      <td>10.71</td>\n",
       "      <td>17.36</td>\n",
       "      <td>15.37</td>\n",
       "      <td>8.62</td>\n",
       "      <td>1.34</td>\n",
       "      <td>10.27</td>\n",
       "      <td>5.66</td>\n",
       "      <td>19.88</td>\n",
       "      <td>20.22</td>\n",
       "      <td>...</td>\n",
       "      <td>13.82</td>\n",
       "      <td>6.05</td>\n",
       "      <td>10.71</td>\n",
       "      <td>18.86</td>\n",
       "      <td>10.81</td>\n",
       "      <td>8.86</td>\n",
       "      <td>14.06</td>\n",
       "      <td>11.34</td>\n",
       "      <td>6.68</td>\n",
       "      <td>12.07</td>\n",
       "    </tr>\n",
       "    <tr>\n",
       "      <th>2</th>\n",
       "      <td>0.00</td>\n",
       "      <td>0.00</td>\n",
       "      <td>0.00</td>\n",
       "      <td>0.00</td>\n",
       "      <td>20.03</td>\n",
       "      <td>20.27</td>\n",
       "      <td>20.03</td>\n",
       "      <td>20.27</td>\n",
       "      <td>0.00</td>\n",
       "      <td>0.00</td>\n",
       "      <td>...</td>\n",
       "      <td>0.00</td>\n",
       "      <td>0.00</td>\n",
       "      <td>0.00</td>\n",
       "      <td>20.08</td>\n",
       "      <td>0.00</td>\n",
       "      <td>0.00</td>\n",
       "      <td>0.00</td>\n",
       "      <td>0.00</td>\n",
       "      <td>0.00</td>\n",
       "      <td>0.00</td>\n",
       "    </tr>\n",
       "    <tr>\n",
       "      <th>3</th>\n",
       "      <td>0.00</td>\n",
       "      <td>19.35</td>\n",
       "      <td>0.00</td>\n",
       "      <td>0.00</td>\n",
       "      <td>12.80</td>\n",
       "      <td>19.16</td>\n",
       "      <td>8.18</td>\n",
       "      <td>17.21</td>\n",
       "      <td>0.00</td>\n",
       "      <td>12.84</td>\n",
       "      <td>...</td>\n",
       "      <td>0.00</td>\n",
       "      <td>0.00</td>\n",
       "      <td>0.00</td>\n",
       "      <td>11.53</td>\n",
       "      <td>0.00</td>\n",
       "      <td>0.00</td>\n",
       "      <td>0.00</td>\n",
       "      <td>0.00</td>\n",
       "      <td>0.00</td>\n",
       "      <td>0.00</td>\n",
       "    </tr>\n",
       "    <tr>\n",
       "      <th>4</th>\n",
       "      <td>19.50</td>\n",
       "      <td>15.61</td>\n",
       "      <td>6.83</td>\n",
       "      <td>5.61</td>\n",
       "      <td>12.36</td>\n",
       "      <td>12.60</td>\n",
       "      <td>18.04</td>\n",
       "      <td>15.61</td>\n",
       "      <td>10.56</td>\n",
       "      <td>16.73</td>\n",
       "      <td>...</td>\n",
       "      <td>16.19</td>\n",
       "      <td>16.58</td>\n",
       "      <td>15.27</td>\n",
       "      <td>16.19</td>\n",
       "      <td>16.73</td>\n",
       "      <td>12.55</td>\n",
       "      <td>14.11</td>\n",
       "      <td>17.55</td>\n",
       "      <td>12.80</td>\n",
       "      <td>12.60</td>\n",
       "    </tr>\n",
       "    <tr>\n",
       "      <th>...</th>\n",
       "      <td>...</td>\n",
       "      <td>...</td>\n",
       "      <td>...</td>\n",
       "      <td>...</td>\n",
       "      <td>...</td>\n",
       "      <td>...</td>\n",
       "      <td>...</td>\n",
       "      <td>...</td>\n",
       "      <td>...</td>\n",
       "      <td>...</td>\n",
       "      <td>...</td>\n",
       "      <td>...</td>\n",
       "      <td>...</td>\n",
       "      <td>...</td>\n",
       "      <td>...</td>\n",
       "      <td>...</td>\n",
       "      <td>...</td>\n",
       "      <td>...</td>\n",
       "      <td>...</td>\n",
       "      <td>...</td>\n",
       "      <td>...</td>\n",
       "    </tr>\n",
       "    <tr>\n",
       "      <th>995</th>\n",
       "      <td>12.94</td>\n",
       "      <td>5.47</td>\n",
       "      <td>16.19</td>\n",
       "      <td>5.51</td>\n",
       "      <td>6.92</td>\n",
       "      <td>8.48</td>\n",
       "      <td>14.20</td>\n",
       "      <td>14.83</td>\n",
       "      <td>4.98</td>\n",
       "      <td>13.96</td>\n",
       "      <td>...</td>\n",
       "      <td>6.58</td>\n",
       "      <td>9.93</td>\n",
       "      <td>15.37</td>\n",
       "      <td>7.89</td>\n",
       "      <td>13.72</td>\n",
       "      <td>6.87</td>\n",
       "      <td>13.23</td>\n",
       "      <td>5.47</td>\n",
       "      <td>14.54</td>\n",
       "      <td>13.38</td>\n",
       "    </tr>\n",
       "    <tr>\n",
       "      <th>996</th>\n",
       "      <td>15.27</td>\n",
       "      <td>11.39</td>\n",
       "      <td>16.39</td>\n",
       "      <td>5.37</td>\n",
       "      <td>7.41</td>\n",
       "      <td>16.58</td>\n",
       "      <td>12.17</td>\n",
       "      <td>2.84</td>\n",
       "      <td>5.13</td>\n",
       "      <td>4.30</td>\n",
       "      <td>...</td>\n",
       "      <td>0.00</td>\n",
       "      <td>0.00</td>\n",
       "      <td>0.00</td>\n",
       "      <td>0.00</td>\n",
       "      <td>6.58</td>\n",
       "      <td>0.00</td>\n",
       "      <td>0.00</td>\n",
       "      <td>0.00</td>\n",
       "      <td>0.00</td>\n",
       "      <td>0.00</td>\n",
       "    </tr>\n",
       "    <tr>\n",
       "      <th>997</th>\n",
       "      <td>16.58</td>\n",
       "      <td>16.63</td>\n",
       "      <td>15.85</td>\n",
       "      <td>7.89</td>\n",
       "      <td>14.40</td>\n",
       "      <td>9.74</td>\n",
       "      <td>14.54</td>\n",
       "      <td>13.14</td>\n",
       "      <td>6.34</td>\n",
       "      <td>11.78</td>\n",
       "      <td>...</td>\n",
       "      <td>0.00</td>\n",
       "      <td>0.00</td>\n",
       "      <td>0.00</td>\n",
       "      <td>0.00</td>\n",
       "      <td>0.00</td>\n",
       "      <td>0.00</td>\n",
       "      <td>0.00</td>\n",
       "      <td>0.00</td>\n",
       "      <td>0.00</td>\n",
       "      <td>0.00</td>\n",
       "    </tr>\n",
       "    <tr>\n",
       "      <th>998</th>\n",
       "      <td>3.67</td>\n",
       "      <td>4.45</td>\n",
       "      <td>3.67</td>\n",
       "      <td>3.67</td>\n",
       "      <td>9.40</td>\n",
       "      <td>7.65</td>\n",
       "      <td>3.86</td>\n",
       "      <td>4.40</td>\n",
       "      <td>3.67</td>\n",
       "      <td>4.93</td>\n",
       "      <td>...</td>\n",
       "      <td>3.82</td>\n",
       "      <td>6.87</td>\n",
       "      <td>6.87</td>\n",
       "      <td>3.77</td>\n",
       "      <td>3.77</td>\n",
       "      <td>3.77</td>\n",
       "      <td>3.77</td>\n",
       "      <td>3.77</td>\n",
       "      <td>3.77</td>\n",
       "      <td>3.28</td>\n",
       "    </tr>\n",
       "    <tr>\n",
       "      <th>999</th>\n",
       "      <td>9.88</td>\n",
       "      <td>11.73</td>\n",
       "      <td>9.16</td>\n",
       "      <td>9.50</td>\n",
       "      <td>13.52</td>\n",
       "      <td>12.07</td>\n",
       "      <td>14.50</td>\n",
       "      <td>11.97</td>\n",
       "      <td>13.28</td>\n",
       "      <td>11.68</td>\n",
       "      <td>...</td>\n",
       "      <td>0.00</td>\n",
       "      <td>0.00</td>\n",
       "      <td>0.00</td>\n",
       "      <td>0.00</td>\n",
       "      <td>12.12</td>\n",
       "      <td>0.00</td>\n",
       "      <td>0.00</td>\n",
       "      <td>0.00</td>\n",
       "      <td>0.00</td>\n",
       "      <td>0.00</td>\n",
       "    </tr>\n",
       "  </tbody>\n",
       "</table>\n",
       "<p>1000 rows × 100 columns</p>\n",
       "</div>"
      ],
      "text/plain": [
       "        0      1      2      3      4      5      6      7      8      9   \\\n",
       "0     3.18  19.79   1.34   2.84   3.48   2.50   1.15  15.17   2.02   6.24   \n",
       "1    15.08  10.71  17.36  15.37   8.62   1.34  10.27   5.66  19.88  20.22   \n",
       "2     0.00   0.00   0.00   0.00  20.03  20.27  20.03  20.27   0.00   0.00   \n",
       "3     0.00  19.35   0.00   0.00  12.80  19.16   8.18  17.21   0.00  12.84   \n",
       "4    19.50  15.61   6.83   5.61  12.36  12.60  18.04  15.61  10.56  16.73   \n",
       "..     ...    ...    ...    ...    ...    ...    ...    ...    ...    ...   \n",
       "995  12.94   5.47  16.19   5.51   6.92   8.48  14.20  14.83   4.98  13.96   \n",
       "996  15.27  11.39  16.39   5.37   7.41  16.58  12.17   2.84   5.13   4.30   \n",
       "997  16.58  16.63  15.85   7.89  14.40   9.74  14.54  13.14   6.34  11.78   \n",
       "998   3.67   4.45   3.67   3.67   9.40   7.65   3.86   4.40   3.67   4.93   \n",
       "999   9.88  11.73   9.16   9.50  13.52  12.07  14.50  11.97  13.28  11.68   \n",
       "\n",
       "     ...     90     91     92     93     94     95     96     97     98     99  \n",
       "0    ...  13.82   0.00   0.00   0.00   0.00   0.00   5.37   0.00   0.00   0.00  \n",
       "1    ...  13.82   6.05  10.71  18.86  10.81   8.86  14.06  11.34   6.68  12.07  \n",
       "2    ...   0.00   0.00   0.00  20.08   0.00   0.00   0.00   0.00   0.00   0.00  \n",
       "3    ...   0.00   0.00   0.00  11.53   0.00   0.00   0.00   0.00   0.00   0.00  \n",
       "4    ...  16.19  16.58  15.27  16.19  16.73  12.55  14.11  17.55  12.80  12.60  \n",
       "..   ...    ...    ...    ...    ...    ...    ...    ...    ...    ...    ...  \n",
       "995  ...   6.58   9.93  15.37   7.89  13.72   6.87  13.23   5.47  14.54  13.38  \n",
       "996  ...   0.00   0.00   0.00   0.00   6.58   0.00   0.00   0.00   0.00   0.00  \n",
       "997  ...   0.00   0.00   0.00   0.00   0.00   0.00   0.00   0.00   0.00   0.00  \n",
       "998  ...   3.82   6.87   6.87   3.77   3.77   3.77   3.77   3.77   3.77   3.28  \n",
       "999  ...   0.00   0.00   0.00   0.00  12.12   0.00   0.00   0.00   0.00   0.00  \n",
       "\n",
       "[1000 rows x 100 columns]"
      ]
     },
     "execution_count": 3,
     "metadata": {},
     "output_type": "execute_result"
    }
   ],
   "source": [
    "joke_ratings_df"
   ]
  },
  {
   "cell_type": "code",
   "execution_count": 4,
   "id": "3e100fca-e7a0-40d1-adaf-032177c00a55",
   "metadata": {},
   "outputs": [
    {
     "name": "stdout",
     "output_type": "stream",
     "text": [
      "<class 'pandas.core.frame.DataFrame'>\n",
      "RangeIndex: 1000 entries, 0 to 999\n",
      "Data columns (total 100 columns):\n",
      " #   Column  Non-Null Count  Dtype  \n",
      "---  ------  --------------  -----  \n",
      " 0   0       1000 non-null   float64\n",
      " 1   1       1000 non-null   float64\n",
      " 2   2       1000 non-null   float64\n",
      " 3   3       1000 non-null   float64\n",
      " 4   4       1000 non-null   float64\n",
      " 5   5       1000 non-null   float64\n",
      " 6   6       1000 non-null   float64\n",
      " 7   7       1000 non-null   float64\n",
      " 8   8       1000 non-null   float64\n",
      " 9   9       1000 non-null   float64\n",
      " 10  10      1000 non-null   float64\n",
      " 11  11      1000 non-null   float64\n",
      " 12  12      1000 non-null   float64\n",
      " 13  13      1000 non-null   float64\n",
      " 14  14      1000 non-null   float64\n",
      " 15  15      1000 non-null   float64\n",
      " 16  16      1000 non-null   float64\n",
      " 17  17      1000 non-null   float64\n",
      " 18  18      1000 non-null   float64\n",
      " 19  19      1000 non-null   float64\n",
      " 20  20      1000 non-null   float64\n",
      " 21  21      1000 non-null   float64\n",
      " 22  22      1000 non-null   float64\n",
      " 23  23      1000 non-null   float64\n",
      " 24  24      1000 non-null   float64\n",
      " 25  25      1000 non-null   float64\n",
      " 26  26      1000 non-null   float64\n",
      " 27  27      1000 non-null   float64\n",
      " 28  28      1000 non-null   float64\n",
      " 29  29      1000 non-null   float64\n",
      " 30  30      1000 non-null   float64\n",
      " 31  31      1000 non-null   float64\n",
      " 32  32      1000 non-null   float64\n",
      " 33  33      1000 non-null   float64\n",
      " 34  34      1000 non-null   float64\n",
      " 35  35      1000 non-null   float64\n",
      " 36  36      1000 non-null   float64\n",
      " 37  37      1000 non-null   float64\n",
      " 38  38      1000 non-null   float64\n",
      " 39  39      1000 non-null   float64\n",
      " 40  40      1000 non-null   float64\n",
      " 41  41      1000 non-null   float64\n",
      " 42  42      1000 non-null   float64\n",
      " 43  43      1000 non-null   float64\n",
      " 44  44      1000 non-null   float64\n",
      " 45  45      1000 non-null   float64\n",
      " 46  46      1000 non-null   float64\n",
      " 47  47      1000 non-null   float64\n",
      " 48  48      1000 non-null   float64\n",
      " 49  49      1000 non-null   float64\n",
      " 50  50      1000 non-null   float64\n",
      " 51  51      1000 non-null   float64\n",
      " 52  52      1000 non-null   float64\n",
      " 53  53      1000 non-null   float64\n",
      " 54  54      1000 non-null   float64\n",
      " 55  55      1000 non-null   float64\n",
      " 56  56      1000 non-null   float64\n",
      " 57  57      1000 non-null   float64\n",
      " 58  58      1000 non-null   float64\n",
      " 59  59      1000 non-null   float64\n",
      " 60  60      1000 non-null   float64\n",
      " 61  61      1000 non-null   float64\n",
      " 62  62      1000 non-null   float64\n",
      " 63  63      1000 non-null   float64\n",
      " 64  64      1000 non-null   float64\n",
      " 65  65      1000 non-null   float64\n",
      " 66  66      1000 non-null   float64\n",
      " 67  67      1000 non-null   float64\n",
      " 68  68      1000 non-null   float64\n",
      " 69  69      1000 non-null   float64\n",
      " 70  70      1000 non-null   float64\n",
      " 71  71      1000 non-null   float64\n",
      " 72  72      1000 non-null   float64\n",
      " 73  73      1000 non-null   float64\n",
      " 74  74      1000 non-null   float64\n",
      " 75  75      1000 non-null   float64\n",
      " 76  76      1000 non-null   float64\n",
      " 77  77      1000 non-null   float64\n",
      " 78  78      1000 non-null   float64\n",
      " 79  79      1000 non-null   float64\n",
      " 80  80      1000 non-null   float64\n",
      " 81  81      1000 non-null   float64\n",
      " 82  82      1000 non-null   float64\n",
      " 83  83      1000 non-null   float64\n",
      " 84  84      1000 non-null   float64\n",
      " 85  85      1000 non-null   float64\n",
      " 86  86      1000 non-null   float64\n",
      " 87  87      1000 non-null   float64\n",
      " 88  88      1000 non-null   float64\n",
      " 89  89      1000 non-null   float64\n",
      " 90  90      1000 non-null   float64\n",
      " 91  91      1000 non-null   float64\n",
      " 92  92      1000 non-null   float64\n",
      " 93  93      1000 non-null   float64\n",
      " 94  94      1000 non-null   float64\n",
      " 95  95      1000 non-null   float64\n",
      " 96  96      1000 non-null   float64\n",
      " 97  97      1000 non-null   float64\n",
      " 98  98      1000 non-null   float64\n",
      " 99  99      1000 non-null   float64\n",
      "dtypes: float64(100)\n",
      "memory usage: 781.4 KB\n"
     ]
    }
   ],
   "source": [
    "joke_ratings_df.info()"
   ]
  },
  {
   "cell_type": "code",
   "execution_count": 5,
   "id": "b3a28a23-2789-47a5-a0fa-a5bc3f1600b7",
   "metadata": {},
   "outputs": [
    {
     "data": {
      "text/plain": [
       "(1000, 100)"
      ]
     },
     "execution_count": 5,
     "metadata": {},
     "output_type": "execute_result"
    }
   ],
   "source": [
    "joke_ratings_df.shape"
   ]
  },
  {
   "cell_type": "code",
   "execution_count": 6,
   "id": "69fb1cc1-fefb-4504-96f0-765fdfb8fc9f",
   "metadata": {},
   "outputs": [
    {
     "data": {
      "text/html": [
       "<div>\n",
       "<style scoped>\n",
       "    .dataframe tbody tr th:only-of-type {\n",
       "        vertical-align: middle;\n",
       "    }\n",
       "\n",
       "    .dataframe tbody tr th {\n",
       "        vertical-align: top;\n",
       "    }\n",
       "\n",
       "    .dataframe thead th {\n",
       "        text-align: right;\n",
       "    }\n",
       "</style>\n",
       "<table border=\"1\" class=\"dataframe\">\n",
       "  <thead>\n",
       "    <tr style=\"text-align: right;\">\n",
       "      <th></th>\n",
       "      <th>1</th>\n",
       "    </tr>\n",
       "  </thead>\n",
       "  <tbody>\n",
       "    <tr>\n",
       "      <th>0</th>\n",
       "      <td>A man visits the doctor. The doctor says \"I ha...</td>\n",
       "    </tr>\n",
       "    <tr>\n",
       "      <th>1</th>\n",
       "      <td>This couple had an excellent relationship goin...</td>\n",
       "    </tr>\n",
       "    <tr>\n",
       "      <th>2</th>\n",
       "      <td>Q. What's 200 feet long and has 4 teeth? A. Th...</td>\n",
       "    </tr>\n",
       "    <tr>\n",
       "      <th>3</th>\n",
       "      <td>Q. What's the difference between a man and a t...</td>\n",
       "    </tr>\n",
       "    <tr>\n",
       "      <th>4</th>\n",
       "      <td>Q. What's O. J. Simpson's Internet address? A....</td>\n",
       "    </tr>\n",
       "  </tbody>\n",
       "</table>\n",
       "</div>"
      ],
      "text/plain": [
       "                                                   1\n",
       "0  A man visits the doctor. The doctor says \"I ha...\n",
       "1  This couple had an excellent relationship goin...\n",
       "2  Q. What's 200 feet long and has 4 teeth? A. Th...\n",
       "3  Q. What's the difference between a man and a t...\n",
       "4  Q. What's O. J. Simpson's Internet address? A...."
      ]
     },
     "execution_count": 6,
     "metadata": {},
     "output_type": "execute_result"
    }
   ],
   "source": [
    "joke_texts_df.head()"
   ]
  },
  {
   "cell_type": "code",
   "execution_count": 7,
   "id": "628fe40a-bdb1-4849-9f2b-ad845fa1817b",
   "metadata": {},
   "outputs": [
    {
     "data": {
      "text/plain": [
       "(100, 1)"
      ]
     },
     "execution_count": 7,
     "metadata": {},
     "output_type": "execute_result"
    }
   ],
   "source": [
    "joke_texts_df.shape"
   ]
  },
  {
   "cell_type": "code",
   "execution_count": 8,
   "id": "c94fd732-813a-412b-a79c-745b9db00fe5",
   "metadata": {},
   "outputs": [],
   "source": [
    "def euclidean_similarity(vectorA, vectorB):\n",
    "    return 1.0 / (1.0 + la.norm(vectorA - vectorB))"
   ]
  },
  {
   "cell_type": "code",
   "execution_count": 9,
   "id": "eddbe986-be05-439a-a937-619ab137cb6c",
   "metadata": {},
   "outputs": [],
   "source": [
    "def pearson_similarity(vectorA, vectorB):\n",
    "    if len(vectorA) < 3:\n",
    "        return 1.0\n",
    "    return 0.5 + 0.5 * corrcoef(vectorA, vectorB, rowvar=0)[0][1]"
   ]
  },
  {
   "cell_type": "code",
   "execution_count": 10,
   "id": "58b52c95-cd50-4c27-aa0b-832b6e3af590",
   "metadata": {},
   "outputs": [],
   "source": [
    "def cosine_similarity(vectorA, vectorB):\n",
    "    numerator = (vectorA.T * vectorB).item()  # Extract the scalar value\n",
    "    denominator = la.norm(vectorA) * la.norm(vectorB)\n",
    "    return 0.5 + 0.5 * (numerator / denominator)"
   ]
  },
  {
   "cell_type": "code",
   "execution_count": 11,
   "id": "26f39b58-b831-4f26-8347-96fbf36062f2",
   "metadata": {},
   "outputs": [],
   "source": [
    "def standard_estimate(rating_matrix, user_index, similarity_measure, item_index):\n",
    "    num_items = shape(rating_matrix)[1]\n",
    "    total_similarity = 0.0\n",
    "    weighted_ratings = 0.0\n",
    "    user_ratings = mat(rating_matrix)\n",
    "    for j in range(num_items):\n",
    "        rating_by_user = user_ratings[user_index, j]\n",
    "        if rating_by_user == 0:\n",
    "            continue\n",
    "        overlapping_items = nonzero(logical_and(user_ratings[:, item_index] > 0, user_ratings[:, j] > 0))[0]\n",
    "        if len(overlapping_items) == 0:\n",
    "            item_similarity = 0\n",
    "        else:\n",
    "            item_similarity = similarity_measure(user_ratings[overlapping_items, item_index], user_ratings[overlapping_items, j])\n",
    "        total_similarity += item_similarity\n",
    "        weighted_ratings += item_similarity * rating_by_user\n",
    "    if total_similarity == 0:\n",
    "        return 0\n",
    "    else:\n",
    "        return weighted_ratings / total_similarity"
   ]
  },
  {
   "cell_type": "code",
   "execution_count": 12,
   "id": "2f478f47-0b15-46a8-9cbe-0f703378afa6",
   "metadata": {},
   "outputs": [],
   "source": [
    "def svd_estimate(rating_matrix, user_index, similarity_measure, item_index):\n",
    "    num_items = shape(rating_matrix)[1]\n",
    "    total_similarity = 0.0\n",
    "    weighted_ratings = 0.0\n",
    "    user_ratings = mat(rating_matrix)\n",
    "    U, Sigma, VT = la.svd(user_ratings)\n",
    "    Sigma4 = mat(eye(4) * Sigma[:4])\n",
    "    transformed_items = user_ratings.T * U[:, :4] * Sigma4.I\n",
    "    for j in range(num_items):\n",
    "        rating_by_user = user_ratings[user_index, j]\n",
    "        if rating_by_user == 0 or j == item_index:\n",
    "            continue\n",
    "        item_similarity = similarity_measure(transformed_items[item_index, :].T, transformed_items[j, :].T)\n",
    "        total_similarity += item_similarity\n",
    "        weighted_ratings += item_similarity * rating_by_user\n",
    "    if total_similarity == 0:\n",
    "        return 0\n",
    "    else:\n",
    "        return weighted_ratings / total_similarity"
   ]
  },
  {
   "cell_type": "code",
   "execution_count": 13,
   "id": "0be7d037-4ece-4a64-b3f1-ce68e667f02d",
   "metadata": {},
   "outputs": [],
   "source": [
    "def get_recommendations(rating_matrix, user_index, num_recommendations=3, similarity_measure=cosine_similarity, estimate_method=standard_estimate):\n",
    "    unrated_items = nonzero(rating_matrix[user_index, :].A == 0)[1]\n",
    "    if len(unrated_items) == 0:\n",
    "        return 'You have rated everything'\n",
    "    item_scores = []\n",
    "    for item in unrated_items:\n",
    "        estimated_score = estimate_method(rating_matrix, user_index, similarity_measure, item)\n",
    "        item_scores.append((item, estimated_score))\n",
    "    return sorted(item_scores, key=lambda x: x[1], reverse=True)[:num_recommendations]"
   ]
  },
  {
   "cell_type": "code",
   "execution_count": 14,
   "id": "87c6a324-b0be-4925-b625-4ddb3a919507",
   "metadata": {},
   "outputs": [],
   "source": [
    "jester_data_matrix = np.matrix(joke_ratings_df)\n",
    "user_id = 4"
   ]
  },
  {
   "cell_type": "code",
   "execution_count": 15,
   "id": "fcda5e37-32ab-4e1b-b512-c9a8c058a172",
   "metadata": {},
   "outputs": [
    {
     "data": {
      "text/plain": [
       "[(71, 14.293754381681563),\n",
       " (75, 14.293605672411005),\n",
       " (79, 14.293063319114747),\n",
       " (78, 14.2908339103558),\n",
       " (70, 14.287092374768891)]"
      ]
     },
     "execution_count": 15,
     "metadata": {},
     "output_type": "execute_result"
    }
   ],
   "source": [
    "cosine_recommendations = get_recommendations(jester_data_matrix, user_id, num_recommendations=5, similarity_measure=cosine_similarity, estimate_method=standard_estimate)\n",
    "cosine_recommendations"
   ]
  },
  {
   "cell_type": "code",
   "execution_count": 16,
   "id": "ea902503-0ed2-4da1-b4d7-ae3190efa913",
   "metadata": {},
   "outputs": [
    {
     "data": {
      "text/plain": [
       "[(71, 14.413443009309447),\n",
       " (75, 14.397311198445264),\n",
       " (79, 14.382511887413443),\n",
       " (78, 14.356160763938075),\n",
       " (72, 14.334361485417928)]"
      ]
     },
     "execution_count": 16,
     "metadata": {},
     "output_type": "execute_result"
    }
   ],
   "source": [
    "pearson_recommendations = get_recommendations(jester_data_matrix, user_id, num_recommendations=5, similarity_measure=pearson_similarity, estimate_method=standard_estimate)\n",
    "pearson_recommendations"
   ]
  },
  {
   "cell_type": "code",
   "execution_count": 17,
   "id": "4838b3c0-cf03-4781-b780-9ce227529255",
   "metadata": {},
   "outputs": [
    {
     "name": "stdout",
     "output_type": "stream",
     "text": [
      "Recommendations are: [(99, 15.324673571007686), (71, 15.324296950553675), (97, 15.322105340570541), (82, 15.301730225022272), (91, 15.294030630051065)]\n",
      "\n",
      "********Top 5 jokes for user# 25 are: *************\n",
      "\n",
      "\t JOKE : ( 99 ) -  Q: What's the difference between greeting a Queen and greeting thePresident of the United  States?A: You only have to get on one knee to greet the queen. \n",
      "\t RATING (Predicted) =  15.324673571007686 \n",
      "\n",
      "\t JOKE : ( 71 ) -  On the first day of college the Dean addressed the students pointing out some of the rules:\"The female dormitory will be out-of-bounds for all male students and the male dormitory to the female students. Anybody caught breaking this rule will be fined $20 the first time.\" He continued \"Anybody caught breaking this rule the second time will be fined $60. Being caught a third time will cost you a fine of $180. Are there any questions ?\"At this point a male student in the crowd inquired:\"How much for a season pass ?\" \n",
      "\t RATING (Predicted) =  15.324296950553675 \n",
      "\n",
      "\t JOKE : ( 97 ) -  Age and Womanhood1. Between the ages of 13 and 18 ... She is like Africa virgin and unexplored. 2. Between the ages of 19 and 35 ... She is like Asia hot and exotic. 3. Between the ages of 36 and 45 ... She is like America fully explored breathtakingly beautiful and free with her resources.4. Between the ages of 46 and 56 ...She is like Europe exhausted but still has points of interest. 5. After 56 she is like Australia ...Everybody knows it's down there but who gives a damn? \n",
      "\t RATING (Predicted) =  15.322105340570541 \n",
      "\n",
      "\t JOKE : ( 82 ) -  What a woman says:\"This place is a mess!  C'monYou and I need to clean upYour stuff is lying on the floor and you'll have no clothes to wear if we don't do laundry right now!\"What a man hears:blah blah blah blah C'mon blah blah blah blah you and I blah blah blah blah on the floor blah blah blah blah no clothes blah blah blah blah RIGHT NOW! \n",
      "\t RATING (Predicted) =  15.301730225022272 \n",
      "\n",
      "\t JOKE : ( 91 ) -  Early one morning a mother went to her sleeping son and woke him up.\"Wake up son.  It's time to go to school.\" \"But why Mama?  I don't want to go to school.\" \"Give me two reasons why you don't want to go to school.\" \"One all the children hate me. Two all the teachers hate me\" \"Oh! that's no reason. Come on you have to go to school\" \"Give me two good reasons WHY I should go to school?\"  \"One you are fifty-two years old. Two you are the principal of the school.\"  \n",
      "\t RATING (Predicted) =  15.294030630051065 \n",
      "\n",
      "\n",
      "\n",
      "\n"
     ]
    }
   ],
   "source": [
    "def recommend_top_jokes(rating_matrix, joke_texts, user_id, top_N, similarity_method, estimation_method):\n",
    "    recommendations = get_recommendations(rating_matrix, user_id, num_recommendations=top_N, similarity_measure=similarity_method, estimate_method=estimation_method)\n",
    "    if recommendations == 'You have rated everything':\n",
    "        return\n",
    "\n",
    "    print(\"Recommendations are:\", recommendations)\n",
    "\n",
    "    print('\\n********Top', top_N, 'jokes for user#', user_id, 'are: *************\\n')\n",
    "\n",
    "    for joke_id, predicted_rating in recommendations:\n",
    "        print(\"\\t JOKE : (\", joke_id, \") - \", joke_texts[joke_id], '\\n\\t RATING (Predicted) = ', predicted_rating, '\\n')\n",
    "\n",
    "    print('\\n\\n')\n",
    "\n",
    "recommend_top_jokes(jester_data_matrix, joke_texts_list, 25, 5, pearson_similarity, standard_estimate)"
   ]
  },
  {
   "cell_type": "code",
   "execution_count": 18,
   "id": "2628dddd-b03e-4d80-aba8-f704c4e27100",
   "metadata": {},
   "outputs": [
    {
     "name": "stdout",
     "output_type": "stream",
     "text": [
      "Recommendations are: [(3, 15.277088154749473), (79, 15.238062599769163), (72, 15.209188661833458), (71, 15.18502140590189), (99, 15.180560799732316)]\n",
      "\n",
      "********Top 5 jokes for user# 25 are: *************\n",
      "\n",
      "\t JOKE : ( 3 ) -  Q. What's the difference between a man and a toilet? A. A toilet doesn't follow you around after you use it. \n",
      "\t RATING (Predicted) =  15.277088154749473 \n",
      "\n",
      "\t JOKE : ( 79 ) -  Hillary Bill Clinton and the Pope are sitting together on an airplane. Bill says \"I could throw one thousand dollar bill out of this plane and make one person very happy.\"Hillary says \"I could throw 10 hundred dollar bills out of the plane and make 10 people very happy.\"The Pope chips in and says \"I could throw Bill out of the airplane and make the whole country happy.\" \n",
      "\t RATING (Predicted) =  15.238062599769163 \n",
      "\n",
      "\t JOKE : ( 72 ) -  Q: What is the difference between George  Washington Richard Nixon and Bill Clinton? A: Washington couldn't tell a lie Nixon couldn't   tell the truth andClinton doesn't know the difference. \n",
      "\t RATING (Predicted) =  15.209188661833458 \n",
      "\n",
      "\t JOKE : ( 71 ) -  On the first day of college the Dean addressed the students pointing out some of the rules:\"The female dormitory will be out-of-bounds for all male students and the male dormitory to the female students. Anybody caught breaking this rule will be fined $20 the first time.\" He continued \"Anybody caught breaking this rule the second time will be fined $60. Being caught a third time will cost you a fine of $180. Are there any questions ?\"At this point a male student in the crowd inquired:\"How much for a season pass ?\" \n",
      "\t RATING (Predicted) =  15.18502140590189 \n",
      "\n",
      "\t JOKE : ( 99 ) -  Q: What's the difference between greeting a Queen and greeting thePresident of the United  States?A: You only have to get on one knee to greet the queen. \n",
      "\t RATING (Predicted) =  15.180560799732316 \n",
      "\n",
      "\n",
      "\n",
      "\n"
     ]
    }
   ],
   "source": [
    "# Pearson similarity\n",
    "recommend_top_jokes(jester_data_matrix, joke_texts_list, 25, 5, pearson_similarity, svd_estimate)"
   ]
  },
  {
   "cell_type": "markdown",
   "id": "545ffee6-3a19-412f-b71e-3a257d2ead83",
   "metadata": {},
   "source": [
    "### PART B: [15 pts] Complete the definition for the function \"test\". This function iterates over all users and for each performs evaluation (by calling the provided \"cross_validate_user\" function) and returns the error information necessary to compute Mean Absolute Error (MAE). Use this function to perform evaluation (with 20% test-ratio for each user) comparing MAE results using the rating prediction function \"standEst\" with results using the \"svdEst\" prediction function (in both cases using Pearson similarity measure. Note that this may take several minutes depending on your computational environment. [Note: See comments provided in the module for hints on accomplishing these tasks.]"
   ]
  },
  {
   "cell_type": "code",
   "execution_count": 19,
   "id": "6d28025d-467d-4fdc-adbe-4ac86af89323",
   "metadata": {},
   "outputs": [],
   "source": [
    "def cross_validate_user(dataMat, user, test_ratio, simMeas, estMethod):\n",
    "    # Find the indices of the non-zero ratings for the user\n",
    "    rated_items = np.nonzero(dataMat[user, :].A > 0)[1]\n",
    "\n",
    "    # Determine the number of ratings to use for testing based on the test_ratio\n",
    "    num_test_ratings = int(test_ratio * len(rated_items))\n",
    "\n",
    "    # Randomly select a subset of indices for testing\n",
    "    test_indices = np.random.choice(rated_items, size=num_test_ratings, replace=False)\n",
    "\n",
    "    # Initialize error and num_tests\n",
    "    error = 0.0\n",
    "    num_tests = 0\n",
    "\n",
    "    # Create a copy of the user's ratings to modify for testing\n",
    "    user_ratings = dataMat[user, :].copy()\n",
    "\n",
    "    # Loop through the test indices\n",
    "    for test_index in test_indices:\n",
    "        # Store the actual rating and set it to 0 in the user's ratings (simulate it being unknown)\n",
    "        actual_rating = user_ratings[0, test_index]\n",
    "        user_ratings[0, test_index] = 0\n",
    "\n",
    "        # Use the estMethod to predict the rating\n",
    "        predicted_rating = estMethod(dataMat, user, simMeas, test_index)\n",
    "\n",
    "        # Compare the predicted rating with the actual rating to compute the absolute error\n",
    "        error += abs(predicted_rating - actual_rating)\n",
    "\n",
    "        # Increment num_tests\n",
    "        num_tests += 1\n",
    "\n",
    "        # Restore the actual rating in the user's ratings\n",
    "        user_ratings[0, test_index] = actual_rating\n",
    "\n",
    "    return error, num_tests\n"
   ]
  },
  {
   "cell_type": "code",
   "execution_count": 20,
   "id": "2535dfe4-b9d7-455e-aff3-dff221f26605",
   "metadata": {},
   "outputs": [],
   "source": [
    "def test(dataMat, test_ratio, simMeas, estMethod):\n",
    "    num_users = np.shape(dataMat)[0]\n",
    "    MAE_sum = 0.0\n",
    "    total_tests = 0\n",
    "    \n",
    "    for user in range(num_users):\n",
    "        error, num_tests = cross_validate_user(dataMat, user, test_ratio, simMeas, estMethod)\n",
    "        MAE_sum += error\n",
    "        total_tests += num_tests\n",
    "    \n",
    "    return MAE_sum / total_tests"
   ]
  },
  {
   "cell_type": "code",
   "execution_count": 21,
   "id": "ebdab905-ecfe-4345-a94f-862079884d0f",
   "metadata": {},
   "outputs": [
    {
     "name": "stdout",
     "output_type": "stream",
     "text": [
      "MAE using standEst: 3.64380165256727\n"
     ]
    }
   ],
   "source": [
    "MAE_standEst = test(jester_data_matrix, 0.2, pearson_similarity, standard_estimate)\n",
    "print(\"MAE using standEst:\", MAE_standEst)"
   ]
  },
  {
   "cell_type": "code",
   "execution_count": 22,
   "id": "00315399-a3cd-4676-8039-cbc1aeaaefae",
   "metadata": {},
   "outputs": [
    {
     "name": "stdout",
     "output_type": "stream",
     "text": [
      "MAE using svdEst: 3.621745181013241\n"
     ]
    }
   ],
   "source": [
    "MAE_svdEst = test(jester_data_matrix, 0.2, pearson_similarity, svd_estimate)\n",
    "print(\"MAE using svdEst:\", MAE_svdEst)"
   ]
  },
  {
   "cell_type": "markdown",
   "id": "e7fd57eb-ebc5-4755-b9ab-739c876e76f5",
   "metadata": {},
   "source": [
    "### PART C: [15 pts] Write a new function \"print_most_similar_jokes\" which outputs the most similar jokes (based on user ratings) to a specified query joke. You function should take as input the joke ratings data, a query joke id, a parameter k for the number similar jokes, and a similarity metric function. It should output the text of the query joke as well as the texts of the top k most similar jokes in decreasing order of similarity (you should also provide the similarity values). Test your function as follows:\n",
    "\n",
    "     * Show the top 3 most similar jokes to joke with id 9 using Pearson similarity.\n",
    "     * Show the top 3 most similar jokes to Joke with id 9 using cosine similarity.\n",
    "\n",
    "[Note: see comments at the end of the provided module as well as comments for the provided stub function.]"
   ]
  },
  {
   "cell_type": "code",
   "execution_count": 23,
   "id": "34bfdabc-173b-4178-b152-f11bfb407bbe",
   "metadata": {},
   "outputs": [],
   "source": [
    "def print_most_similar_jokes(dataMat, jokes, query_joke_id, k, simMeas):\n",
    "\n",
    "    # Initialize a list to store similarity scores\n",
    "    similarity_scores = []\n",
    "\n",
    "    # Loop through all jokes\n",
    "    for joke_id in range(dataMat.shape[1]):\n",
    "        if joke_id != query_joke_id:\n",
    "            # Compute similarity between query joke and current joke\n",
    "            similarity = simMeas(dataMat[:, query_joke_id], dataMat[:, joke_id])\n",
    "            similarity_scores.append((joke_id, similarity))\n",
    "\n",
    "    # Sort the similarity scores in decreasing order\n",
    "    sorted_scores = sorted(similarity_scores, key=lambda x: x[1], reverse=True)\n",
    "\n",
    "    # Output the text of the query joke\n",
    "    print(f\"Query Joke (ID: {query_joke_id}): {jokes[query_joke_id]}\")\n",
    "\n",
    "    # Output the texts of the top k most similar jokes\n",
    "    print(f\"\\nTop {k} most similar jokes to Joke ID {query_joke_id}:\\n\")\n",
    "    for i in range(k):\n",
    "        similar_joke_id, similarity = sorted_scores[i]\n",
    "        print(f\"{i + 1}. Joke ID: {similar_joke_id}, Similarity: {similarity:.2f}\")\n",
    "        print(f\"{jokes[similar_joke_id]}\\n\")"
   ]
  },
  {
   "cell_type": "code",
   "execution_count": 27,
   "id": "a97b579c-7456-4ecb-a72d-9e48d54f950e",
   "metadata": {},
   "outputs": [],
   "source": [
    "joke_texts_df = pd.read_csv('N:/Programming machine learning/assignment 4/jokes (1)/jokes.csv', header=None, usecols=[1])\n",
    "joke_texts_list = joke_texts_df[1].tolist()"
   ]
  },
  {
   "cell_type": "code",
   "execution_count": 30,
   "id": "c9ddd9ac-45e4-40aa-b718-ee801c49d408",
   "metadata": {},
   "outputs": [],
   "source": [
    "jokes_texts_list = [joke.strip() for joke in open('N:/Programming machine learning/assignment 4/jokes (1)/jokes.csv', 'r').readlines()]"
   ]
  },
  {
   "cell_type": "markdown",
   "id": "304662f9-452e-4202-8f08-a3f7682461c5",
   "metadata": {},
   "source": [
    "### Show the top 3 most similar jokes to joke with id 9 using Pearson similarity."
   ]
  },
  {
   "cell_type": "code",
   "execution_count": 31,
   "id": "0822f597-0046-4575-9635-63de7c3c3705",
   "metadata": {},
   "outputs": [
    {
     "name": "stdout",
     "output_type": "stream",
     "text": [
      "Query Joke (ID: 9): Two cannibals are eating a clown one turns to other and says: \"Does this taste funny to you? \n",
      "\n",
      "Top 3 most similar jokes to Joke ID 9:\n",
      "\n",
      "1. Joke ID: 21, Similarity: 0.76\n",
      "A duck walks into a pharmacy and asks for a condom. The pharmacist says\"Would you like me to stick that on your bill?\"The duck says: \"What kind of duck do you think I am!\"\n",
      "\n",
      "2. Joke ID: 10, Similarity: 0.76\n",
      "Q. What do a hurricane a tornado and a redneck divorce all have in common? A. Someone's going to lose their trailer...\n",
      "\n",
      "3. Joke ID: 54, Similarity: 0.75\n",
      "A woman has twins and gives them up for adoption.  One of them goes to a family in Egypt and is named \"Amal.\"  The other goes to a  family in Spain; they name him \"Juan.\"  Years later Juan sends a picture of himself to his mom.  Upon receiving the picture she tells her husband that she wishes she also had a picture of Amal.  Her husband responds \"But they are twins-if you've seen Juan you've seen   Amal.\n",
      "\n"
     ]
    }
   ],
   "source": [
    "# Show the top 3 most similar jokes to joke with id 9 using Pearson similarity\n",
    "print_most_similar_jokes(jester_data_matrix, jokes_list, 9, 3, pearson_similarity)"
   ]
  },
  {
   "cell_type": "markdown",
   "id": "ecec2809-696d-44ab-9c05-5547ffb6226c",
   "metadata": {},
   "source": [
    "### Show the top 3 most similar jokes to Joke with id 9 using cosine similarity."
   ]
  },
  {
   "cell_type": "code",
   "execution_count": 32,
   "id": "9716d00c-f755-43bc-abcc-30bb92fbdf95",
   "metadata": {},
   "outputs": [
    {
     "name": "stdout",
     "output_type": "stream",
     "text": [
      "Query Joke (ID: 9): Two cannibals are eating a clown one turns to other and says: \"Does this taste funny to you? \n",
      "\n",
      "Top 3 most similar jokes to Joke ID 9:\n",
      "\n",
      "1. Joke ID: 10, Similarity: 0.93\n",
      "Q. What do a hurricane a tornado and a redneck divorce all have in common? A. Someone's going to lose their trailer...\n",
      "\n",
      "2. Joke ID: 37, Similarity: 0.93\n",
      "May I take your order? the waiter asked. \"Yes how do you prepare your chickens?\" \"Nothing special sir\" he replied. \"We just tell them straight out that they're going to die.\"\n",
      "\n",
      "3. Joke ID: 21, Similarity: 0.93\n",
      "A duck walks into a pharmacy and asks for a condom. The pharmacist says\"Would you like me to stick that on your bill?\"The duck says: \"What kind of duck do you think I am!\"\n",
      "\n"
     ]
    }
   ],
   "source": [
    "# Show the top 3 most similar jokes to joke with id 9 using cosine similarity\n",
    "print_most_similar_jokes(jester_data_matrix, jokes_list, 9, 3, cosine_similarity)"
   ]
  },
  {
   "cell_type": "markdown",
   "id": "5b2afaf5-81a6-4f33-af2c-f092fa0ec612",
   "metadata": {},
   "source": [
    "### PART D: [15 pts] The implementation of item-based collaborative filtering provided in the module is not scalable since for each prediction it attempts to compute pairwise similarities among all items. Develop your own item-based collaborative filtering recommender that uses a model-based approach (separating the training and the prediction tasks). In the training component, item-item similarities for all pairs of items are computed and stored in an appropriate data structure such as a pairwise similarity matrix. Your training function should be able to use different similarity functions (passed as a parameter) including cosine Similarity or Pearson correlation. The prediction (or estimation) function should take as parameters a target user, an item, a value of k, and the similarities matrix computed in the training phase. It should then return the predicted rating on the target item for the target user. The predicted rating should be the weighted average of the target user's ratings on the k most similar items to the target item (obtained from the similarity matrix). Demonstrate that your function works by computing predicted ratings for users 4 and 25, using k = 10, on top two items recommended to each user on part a (using both Pearson and cosine similarities)."
   ]
  },
  {
   "cell_type": "code",
   "execution_count": 33,
   "id": "79832206-26ee-452b-8457-9c372bb252b3",
   "metadata": {},
   "outputs": [],
   "source": [
    "def train_item_based_CF(dataMat, simMeas):\n",
    "    num_items = dataMat.shape[1]\n",
    "    simMatrix = np.zeros((num_items, num_items))\n",
    "    for i in range(num_items):\n",
    "        for j in range(i, num_items):\n",
    "            if i != j:\n",
    "                similarity = simMeas(dataMat[:, i], dataMat[:, j])\n",
    "                simMatrix[i, j] = similarity\n",
    "                simMatrix[j, i] = similarity\n",
    "    return simMatrix"
   ]
  },
  {
   "cell_type": "code",
   "execution_count": 34,
   "id": "e6591e53-4411-47fc-a89f-65cde10e6cd4",
   "metadata": {},
   "outputs": [],
   "source": [
    "def predict_rating(dataMat, user, item, k, simMatrix):\n",
    "    similar_items = np.argsort(-simMatrix[item, :])[:k]\n",
    "    weighted_sum = 0\n",
    "    sim_sum = 0\n",
    "    for similar_item in similar_items:\n",
    "        rating = dataMat[user, similar_item]\n",
    "        if rating > 0:  # Consider only items rated by the user\n",
    "            weighted_sum += rating * simMatrix[item, similar_item]\n",
    "            sim_sum += abs(simMatrix[item, similar_item])\n",
    "    if sim_sum == 0:\n",
    "        return 0\n",
    "    else:\n",
    "        return weighted_sum / sim_sum"
   ]
  },
  {
   "cell_type": "code",
   "execution_count": 35,
   "id": "375eb8e5-9dda-4230-8ee1-5aca5f5a829c",
   "metadata": {},
   "outputs": [],
   "source": [
    "simMatrix_pearson = train_item_based_CF(jester_data_matrix, pearson_similarity)\n",
    "simMatrix_cosine = train_item_based_CF(jester_data_matrix, cosine_similarity)"
   ]
  },
  {
   "cell_type": "code",
   "execution_count": 36,
   "id": "d165d55a-6a16-4785-ad32-747a8fcd6fe5",
   "metadata": {},
   "outputs": [
    {
     "name": "stdout",
     "output_type": "stream",
     "text": [
      "Predicted rating for user: 4 for item: 71\n",
      "Original rating: 0.0\n",
      "Predicted rating using cosine similarity: 14.768\n",
      "Predicted rating using pearson similarity: 14.768\n"
     ]
    }
   ],
   "source": [
    "user = 4\n",
    "item = 71\n",
    "k = 10\n",
    "\n",
    "original_rating = jester_data_matrix[user, item]\n",
    "cosine_pred_rating = predict_rating(jester_data_matrix, user, item, k, simMatrix_cosine)\n",
    "pearson_pred_rating = predict_rating(jester_data_matrix, user, item, k, simMatrix_pearson)\n",
    "\n",
    "print(f\"Predicted rating for user: {user} for item: {item}\")\n",
    "print(f\"Original rating: {original_rating}\")\n",
    "print(f\"Predicted rating using cosine similarity: {cosine_pred_rating:.3f}\")\n",
    "print(f\"Predicted rating using pearson similarity: {pearson_pred_rating:.3f}\")"
   ]
  },
  {
   "cell_type": "code",
   "execution_count": 37,
   "id": "334d4c5b-9079-4d51-9950-7d1c18592f71",
   "metadata": {},
   "outputs": [
    {
     "name": "stdout",
     "output_type": "stream",
     "text": [
      "Predicted rating for user: 4 for item: 25\n",
      "Original rating: 12.89\n",
      "Predicted rating using cosine similarity: 15.848\n",
      "Predicted rating using pearson similarity: 16.428\n"
     ]
    }
   ],
   "source": [
    "user = 4\n",
    "item = 25\n",
    "k = 10\n",
    "\n",
    "original_rating = jester_data_matrix[user, item]\n",
    "cosine_pred_rating = predict_rating(jester_data_matrix, user, item, k, simMatrix_cosine)\n",
    "pearson_pred_rating = predict_rating(jester_data_matrix, user, item, k, simMatrix_pearson)\n",
    "\n",
    "print(f\"Predicted rating for user: {user} for item: {item}\")\n",
    "print(f\"Original rating: {original_rating}\")\n",
    "print(f\"Predicted rating using cosine similarity: {cosine_pred_rating:.3f}\")\n",
    "print(f\"Predicted rating using pearson similarity: {pearson_pred_rating:.3f}\")"
   ]
  },
  {
   "cell_type": "code",
   "execution_count": 38,
   "id": "58e43c6a-aed0-445b-9ed2-80ac761032ec",
   "metadata": {},
   "outputs": [
    {
     "name": "stdout",
     "output_type": "stream",
     "text": [
      "Predicted rating for user: 5 for item: 14\n",
      "Original rating: 11.49\n",
      "Predicted rating using cosine similarity: 7.645\n",
      "Predicted rating using pearson similarity: 5.157\n"
     ]
    }
   ],
   "source": [
    "user = 5\n",
    "item = 14\n",
    "k = 10\n",
    "\n",
    "original_rating = jester_data_matrix[user, item]\n",
    "cosine_pred_rating = predict_rating(jester_data_matrix, user, item, k, simMatrix_cosine)\n",
    "pearson_pred_rating = predict_rating(jester_data_matrix, user, item, k, simMatrix_pearson)\n",
    "\n",
    "print(f\"Predicted rating for user: {user} for item: {item}\")\n",
    "print(f\"Original rating: {original_rating}\")\n",
    "print(f\"Predicted rating using cosine similarity: {cosine_pred_rating:.3f}\")\n",
    "print(f\"Predicted rating using pearson similarity: {pearson_pred_rating:.3f}\")"
   ]
  },
  {
   "cell_type": "markdown",
   "id": "886284b3-e298-48f8-8f9d-0524e0867a3d",
   "metadata": {},
   "source": [
    "### [Extra Credit - 10 pts] Modify the \"cross_validate_user\" and  \"test\" functions as necessary to use the new version of the prediction function (from part d). First test the prediction accuracy of your prediction function (similarly to part b, above) using both cosine and Pearson similarity measures. Next, provide a plot of cross-validation accuracies across a range of values of k. (running the \"test\" function for each value of k). Your plot may look similar to this example. Next, Modify the \"recommend\" function to use your new prediction function. Using the best observed value of k from your plot demonstrate the functionality of your recommender by generating top 3 recommendations for users 4 and 25."
   ]
  },
  {
   "cell_type": "code",
   "execution_count": 39,
   "id": "6fab50c0-7eee-4a65-bb89-b8cadb52a99f",
   "metadata": {},
   "outputs": [],
   "source": [
    "def cross_validate_user(dataMat, user, test_ratio, simMatrix, k, estMethod):\n",
    "    rated_items = np.nonzero(dataMat[user, :].A > 0)[1]\n",
    "    num_test_ratings = int(test_ratio * len(rated_items))\n",
    "    test_indices = np.random.choice(rated_items, size=num_test_ratings, replace=False)\n",
    "    error = 0.0\n",
    "    num_tests = 0\n",
    "    for test_index in test_indices:\n",
    "        actual_rating = dataMat[user, test_index]\n",
    "        dataMat[user, test_index] = 0  # Temporarily remove the rating\n",
    "        predicted_rating = estMethod(dataMat, user, test_index, k, simMatrix)\n",
    "        dataMat[user, test_index] = actual_rating  # Restore the rating\n",
    "        error += abs(predicted_rating - actual_rating)\n",
    "        num_tests += 1\n",
    "    return error, num_tests"
   ]
  },
  {
   "cell_type": "code",
   "execution_count": 40,
   "id": "df3640d8-fb2f-455d-acc0-91c1b8ffc6d6",
   "metadata": {},
   "outputs": [],
   "source": [
    "def test(dataMat, test_ratio, simMatrix, k, estMethod):\n",
    "    num_users = np.shape(dataMat)[0]\n",
    "    MAE_sum = 0.0\n",
    "    total_tests = 0\n",
    "    for user in range(num_users):\n",
    "        error, num_tests = cross_validate_user(dataMat, user, test_ratio, simMatrix, k, estMethod)\n",
    "        MAE_sum += error\n",
    "        total_tests += num_tests\n",
    "    return MAE_sum / total_tests"
   ]
  },
  {
   "cell_type": "code",
   "execution_count": 43,
   "id": "e95dcf59-8247-449c-af6e-21d158fda008",
   "metadata": {},
   "outputs": [
    {
     "data": {
      "image/png": "[encoded data removed]",
      "text/plain": [
       "<Figure size 640x480 with 1 Axes>"
      ]
     },
     "metadata": {},
     "output_type": "display_data"
    }
   ],
   "source": [
    "k_values = range(1, 21)\n",
    "MAE_cosine = []\n",
    "MAE_pearson = []\n",
    "\n",
    "for k in k_values:\n",
    "    MAE_cosine.append(test(jester_data_matrix, 0.2, simMatrix_cosine, k, predict_rating))\n",
    "    MAE_pearson.append(test(jester_data_matrix, 0.2, simMatrix_pearson, k, predict_rating))\n",
    "\n",
    "plt.plot(k_values, MAE_cosine, label='Cosine Similarity')\n",
    "plt.plot(k_values, MAE_pearson, label='Pearson Similarity')\n",
    "plt.xlabel('k')\n",
    "plt.ylabel('MAE')\n",
    "plt.legend()\n",
    "plt.title('Cross-Validation Accuracy')\n",
    "plt.show()"
   ]
  },
  {
   "cell_type": "code",
   "execution_count": 44,
   "id": "078ebb16-8944-40ab-a53e-e1759a9d4a05",
   "metadata": {},
   "outputs": [
    {
     "data": {
      "text/plain": [
       "[(3, 14.730634080795703), (57, 13.896576174302474), (74, 13.820000000000002)]"
      ]
     },
     "execution_count": 44,
     "metadata": {},
     "output_type": "execute_result"
    }
   ],
   "source": [
    "def recommend(dataMat, user, N, simMatrix, k, estMethod):\n",
    "    unrated_items = np.nonzero(dataMat[user, :].A == 0)[1]\n",
    "    if len(unrated_items) == 0:\n",
    "        return 'You have rated everything'\n",
    "    item_scores = []\n",
    "    for item in unrated_items:\n",
    "        estimated_score = estMethod(dataMat, user, item, k, simMatrix)\n",
    "        item_scores.append((item, estimated_score))\n",
    "    return sorted(item_scores, key=lambda jj: jj[1], reverse=True)[:N]\n",
    "\n",
    "# Example usage with the best observed value of k\n",
    "best_k = 10  # Replace this with the best observed value of k from your plot\n",
    "recommendations_user_4 = recommend(jester_data_matrix, 4, 3, simMatrix_pearson, best_k, predict_rating)\n",
    "recommendations_user_25 = recommend(jester_data_matrix, 25, 3, simMatrix_pearson, best_k, predict_rating)\n",
    "\n",
    "recommendations_user_4\n",
    "recommendations_user_25\n"
   ]
  }
 ],
 "metadata": {
  "kernelspec": {
   "display_name": "Python 3 (ipykernel)",
   "language": "python",
   "name": "python3"
  },
  "language_info": {
   "codemirror_mode": {
    "name": "ipython",
    "version": 3
   },
   "file_extension": ".py",
   "mimetype": "text/x-python",
   "name": "python",
   "nbconvert_exporter": "python",
   "pygments_lexer": "ipython3",
   "version": "3.11.8"
  }
 },
 "nbformat": 4,
 "nbformat_minor": 5
}
